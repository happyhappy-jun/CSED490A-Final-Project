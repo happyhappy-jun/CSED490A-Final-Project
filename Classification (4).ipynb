{
 "cells": [
  {
   "cell_type": "code",
   "execution_count": null,
   "metadata": {},
   "outputs": [],
   "source": [
    "import numpy as np\n",
    "import pandas as pd"
   ]
  },
  {
   "cell_type": "code",
   "execution_count": null,
   "metadata": {},
   "outputs": [],
   "source": [
    "train_x = pd.read_csv('data/classificaition_train_x.csv')\n",
    "train_y = pd.read_csv('data/classificaition_train_y.csv')\n",
    "val_x = pd.read_csv('data/classificaition_val_x.csv')\n",
    "val_y = pd.read_csv('data/classificaition_val_y.csv')\n",
    "test_x = pd.read_csv('data/classificaition_test_x.csv')"
   ]
  },
  {
   "cell_type": "code",
   "execution_count": null,
   "metadata": {
    "scrolled": true
   },
   "outputs": [],
   "source": [
    "train_x.head(5)"
   ]
  },
  {
   "cell_type": "code",
   "execution_count": null,
   "metadata": {
    "scrolled": false
   },
   "outputs": [],
   "source": [
    "train_y.head(5)"
   ]
  },
  {
   "cell_type": "markdown",
   "metadata": {},
   "source": [
    "To use the decision tree of sklearn, we should transform categorical values into numerical values.\n",
    "\n",
    "For the simplicity, I just drop the categorical value.\n",
    "\n",
    "However, you should conduct the transformation to get a good score."
   ]
  },
  {
   "cell_type": "code",
   "execution_count": null,
   "metadata": {
    "scrolled": true
   },
   "outputs": [],
   "source": [
    "train_x = train_x.drop(columns=['f1', 'f2', 'f3', 'f4', 'f7', 'f8', 'f9', 'f12', 'f17', 'f20'])\n",
    "val_x = val_x.drop(columns=['f1', 'f2', 'f3', 'f4', 'f7', 'f8', 'f9', 'f12', 'f17', 'f20'])\n",
    "test_x = test_x.drop(columns=['f1', 'f2', 'f3', 'f4', 'f7', 'f8', 'f9', 'f12', 'f17', 'f20'])"
   ]
  },
  {
   "cell_type": "code",
   "execution_count": null,
   "metadata": {},
   "outputs": [],
   "source": [
    "from sklearn import tree\n",
    "clf = tree.DecisionTreeClassifier()\n",
    "clf = clf.fit(train_x, train_y)\n",
    "\n",
    "val_y_prob = clf.predict_proba(val_x)\n",
    "\n",
    "from sklearn.metrics import log_loss\n",
    "print(log_loss(val_y, val_y_prob))"
   ]
  },
  {
   "cell_type": "markdown",
   "metadata": {},
   "source": [
    "If we use regression,"
   ]
  },
  {
   "cell_type": "code",
   "execution_count": null,
   "metadata": {},
   "outputs": [],
   "source": [
    "from sklearn import tree\n",
    "clf = tree.DecisionTreeRegressor()\n",
    "clf = clf.fit(train_x, train_y)\n",
    "\n",
    "val_y_prob = clf.predict(val_x)\n",
    "\n",
    "from sklearn.metrics import log_loss\n",
    "print(log_loss(val_y, val_y_prob))"
   ]
  },
  {
   "cell_type": "markdown",
   "metadata": {},
   "source": [
    "To submit:"
   ]
  },
  {
   "cell_type": "code",
   "execution_count": null,
   "metadata": {},
   "outputs": [],
   "source": [
    "#for tree classifier\n",
    "test_y_prob = clf.predict_proba(test_x) \n",
    "test_y_prob_pd = pd.DataFrame(data=test_y_prob[:,0], columns=['y'])"
   ]
  },
  {
   "cell_type": "code",
   "execution_count": null,
   "metadata": {},
   "outputs": [],
   "source": [
    "#for tree regressor\n",
    "test_y_prob = clf.predict(test_x)\n",
    "test_y_prob_pd = pd.DataFrame(data=test_y_prob, columns=['y'])"
   ]
  },
  {
   "cell_type": "code",
   "execution_count": null,
   "metadata": {},
   "outputs": [],
   "source": [
    "test_y_prob_pd.to_csv('test.csv', index_label='id')"
   ]
  },
  {
   "cell_type": "code",
   "execution_count": null,
   "metadata": {},
   "outputs": [],
   "source": []
  }
 ],
 "metadata": {
  "kernelspec": {
   "display_name": "Python 3.7.1 64-bit ('base': conda)",
   "language": "python",
   "name": "python37164bitbaseconda7d83067cfd6040cb9b83bec122768017"
  },
  "language_info": {
   "codemirror_mode": {
    "name": "ipython",
    "version": 3
   },
   "file_extension": ".py",
   "mimetype": "text/x-python",
   "name": "python",
   "nbconvert_exporter": "python",
   "pygments_lexer": "ipython3",
   "version": "3.7.1"
  }
 },
 "nbformat": 4,
 "nbformat_minor": 2
}
