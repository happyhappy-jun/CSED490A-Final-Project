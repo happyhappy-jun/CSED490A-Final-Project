{
 "cells": [
  {
   "cell_type": "code",
   "execution_count": 1,
   "metadata": {
    "pycharm": {
     "is_executing": false
    }
   },
   "outputs": [],
   "source": [
    "import pandas as pd\n",
    "import numpy as np\n",
    "import seaborn as sns\n",
    "from scipy import stats\n",
    "\n",
    "from sklearn import preprocessing, metrics\n",
    "from sklearn.metrics import classification_report\n",
    "from sklearn.metrics import confusion_matrix\n",
    "from sklearn.metrics import accuracy_score\n",
    "from sklearn.decomposition import PCA\n",
    "from sklearn.model_selection import train_test_split\n",
    "from sklearn.preprocessing import StandardScaler, PolynomialFeatures\n",
    "\n",
    "import matplotlib.pyplot as plt\n",
    "from datetime import datetime\n",
    "from sklearn.preprocessing import PolynomialFeatures\n",
    "from sklearn.preprocessing import MinMaxScaler, LabelEncoder\n"
   ]
  },
  {
   "cell_type": "code",
   "execution_count": 2,
   "metadata": {
    "pycharm": {
     "is_executing": false,
     "name": "#%%\n"
    }
   },
   "outputs": [
    {
     "name": "stdout",
     "text": [
      "(32950, 21)\n"
     ],
     "output_type": "stream"
    }
   ],
   "source": [
    "train_x = pd.read_csv('data/classificaition_train_x.csv')\n",
    "train_y = pd.read_csv('data/classificaition_train_y.csv')\n",
    "val_x = pd.read_csv('data/classificaition_val_x.csv')\n",
    "val_y = pd.read_csv('data/classificaition_val_y.csv')\n",
    "train = pd.concat([train_x, train_y], axis = 1)\n",
    "val = pd.concat([val_x, val_y], axis =1)\n",
    "data = pd.concat([train, val], ignore_index = True)\n",
    "print(data.shape)\n",
    "                  "
   ]
  },
  {
   "cell_type": "code",
   "execution_count": 3,
   "metadata": {
    "pycharm": {
     "is_executing": false,
     "name": "#%%\n"
    }
   },
   "outputs": [
    {
     "name": "stdout",
     "text": [
      "(32950, 21)\n",
      "(32944, 21)\n",
      "(32944, 21)\n",
      "(32944, 21)\n"
     ],
     "output_type": "stream"
    }
   ],
   "source": [
    "print(data.shape)\n",
    "data = data.drop_duplicates()\n",
    "print(data.shape)\n",
    "from scipy import stats\n",
    "def catagorize(df):\n",
    "    catags = []\n",
    "    for col in list(df.columns):\n",
    "        if(type(df[col][0])==str):\n",
    "            catags.append(col)\n",
    "    cols = list(df.columns)\n",
    "    quant = [i for i in cols if i not in catags]\n",
    "    return (catags, quant)\n",
    "\n",
    "(categorical_cols,quant) = catagorize(data)\n",
    "print(data.shape)\n",
    "for x in quant:\n",
    "    data[np.abs(data[x]-data[x].mean()) <= (3*data[x].std())]\n",
    "data_x = data.iloc[:,:-1]\n",
    "data_y = data[\"y\"]\n",
    "print(data.shape)"
   ]
  },
  {
   "cell_type": "code",
   "execution_count": 3,
   "metadata": {
    "pycharm": {
     "is_executing": false,
     "name": "#%%\n"
    }
   },
   "outputs": [],
   "source": []
  },
  {
   "cell_type": "code",
   "execution_count": 4,
   "metadata": {
    "pycharm": {
     "is_executing": false,
     "name": "#%%\n"
    }
   },
   "outputs": [],
   "source": [
    "from sklearn.model_selection import train_test_split \n",
    "X_rest, X_test, y_rest, y_test = train_test_split(data_x, data_y, test_size=0.2)\n",
    "X_train, X_cv, y_train, y_cv = train_test_split(X_rest, y_rest, test_size=0.2)\n",
    "\n",
    "\n"
   ]
  },
  {
   "cell_type": "code",
   "execution_count": 5,
   "metadata": {
    "pycharm": {
     "is_executing": false,
     "name": "#%%\n"
    }
   },
   "outputs": [],
   "source": [
    "\n",
    "from sklearn.feature_extraction.text import CountVectorizer\n",
    "\n",
    "def add_onehot_to_dataframe(sparse, df, vectorizer, name):\n",
    "  '''\n",
    "      This function will add the one hot encoded to the dataframe.\n",
    "\n",
    "  '''\n",
    "  for i, col in enumerate(vectorizer.get_feature_names()):\n",
    "    colname = name+\"_\"+col\n",
    "    # df[colname] = pd.SparseSeries(sparse[:, i].toarray().flatten(), fill_value=0)\n",
    "    df[colname] = sparse[:, i].toarray().ravel().tolist()\n",
    "  \n",
    "  return df\n",
    "\n",
    "def OneHotEncoder(categorical_cols, X_train, X_test, X_cv=None, include_cv=False):\n",
    "  '''\n",
    "    This function takes categorical column names as inputs. The objective\n",
    "    of this function is to take the column names iteratively and encode the \n",
    "    features using One hot Encoding mechanism and also adding the encoded feature\n",
    "    to the respective dataframe.\n",
    "\n",
    "    The include_cv parameter indicates whether we should include CV dataset or not.\n",
    "    This is added specifically because when using GridSearchCV or RandomizedSearchCV,\n",
    "    we only split the dataset into train and test to give more data to training purposes.\n",
    "    This is done because GridSearchCV splits the data internally anyway.\n",
    "  '''\n",
    "\n",
    "  for i in categorical_cols:\n",
    "    Vectorizer = CountVectorizer(token_pattern=\"[A-Za-z0-9-.]+\")\n",
    "    print(\"Encoding for feature: \", i)\n",
    "    # Encoding training dataset \n",
    "    temp_cols = Vectorizer.fit_transform(X_train[i])\n",
    "    X_train = add_onehot_to_dataframe(temp_cols, X_train, Vectorizer, i)\n",
    "\n",
    "    # Encoding Cross validation dataset\n",
    "    if include_cv:\n",
    "      temp_cols = Vectorizer.transform(X_cv[i])\n",
    "      X_cv = add_onehot_to_dataframe(temp_cols, X_cv, Vectorizer, i)\n",
    "\n",
    "    # Encoding Test dataset\n",
    "    temp_cols = Vectorizer.transform(X_test[i])\n",
    "    X_test = add_onehot_to_dataframe(temp_cols, X_test, Vectorizer, i)"
   ]
  },
  {
   "cell_type": "code",
   "execution_count": 6,
   "metadata": {
    "pycharm": {
     "is_executing": false,
     "name": "#%%\n"
    }
   },
   "outputs": [],
   "source": [
    "\n",
    "def catagorize(df):\n",
    "    catags = []\n",
    "    for col in list(df.columns):\n",
    "        if(type(df[col][0])==str):\n",
    "            catags.append(col)\n",
    "    cols = list(df.columns)\n",
    "    quant = [i for i in cols if i not in catags]\n",
    "    return (catags, quant)\n",
    "\n",
    "(categorical_cols,_) = catagorize(data_x)\n"
   ]
  },
  {
   "cell_type": "code",
   "execution_count": 7,
   "metadata": {
    "pycharm": {
     "is_executing": false,
     "name": "#%%\n"
    }
   },
   "outputs": [
    {
     "name": "stdout",
     "text": [
      "Encoding for feature:  f1\n",
      "Encoding for feature:  f2\n",
      "Encoding for feature:  f3\n",
      "Encoding for feature:  f4\n",
      "Encoding for feature:  f7\n",
      "Encoding for feature:  f8\n",
      "Encoding for feature:  f9\n",
      "Encoding for feature:  f12\n",
      "Encoding for feature:  f17\n",
      "Encoding for feature:  f20\n",
      "Shape of train:  (21084, 63)\n",
      "Shape of CV:  (5271, 63)\n",
      "Shape of test:  (6589, 63)\n"
     ],
     "output_type": "stream"
    },
    {
     "name": "stderr",
     "text": [
      "/Users/unajun/.virtualenvs/CSED490_Project/lib/python3.7/site-packages/ipykernel_launcher.py:11: SettingWithCopyWarning: \n",
      "A value is trying to be set on a copy of a slice from a DataFrame.\n",
      "Try using .loc[row_indexer,col_indexer] = value instead\n",
      "\n",
      "See the caveats in the documentation: https://pandas.pydata.org/pandas-docs/stable/user_guide/indexing.html#returning-a-view-versus-a-copy\n",
      "  # This is added back by InteractiveShellApp.init_path()\n"
     ],
     "output_type": "stream"
    }
   ],
   "source": [
    "(categorical_cols,_) = catagorize(data_x)\n",
    "\n",
    "OneHotEncoder(categorical_cols, X_train, X_test, X_cv, True)\n",
    "\n",
    "# Drop the categorical features as the one hot encoded representation is present\n",
    "X_train = X_train.drop(categorical_cols, axis=1)\n",
    "X_cv = X_cv.drop(categorical_cols, axis=1)\n",
    "X_test = X_test.drop(categorical_cols, axis=1)\n",
    "\n",
    "print(\"Shape of train: \", X_train.shape)\n",
    "print(\"Shape of CV: \", X_cv.shape)\n",
    "print(\"Shape of test: \", X_test.shape)"
   ]
  },
  {
   "cell_type": "code",
   "execution_count": 8,
   "metadata": {
    "pycharm": {
     "is_executing": false,
     "name": "#%%\n"
    }
   },
   "outputs": [],
   "source": [
    "# from sklearn.manifold import TSNE\n",
    "# model = TSNE(n_components=2, random_state=0, perplexity=30)\n",
    "# tnse_data = model.fit_transform(X_train)\n",
    "# plt.figure(figsize=(8,8))\n",
    "# plt.scatter(tnse_data[:,0], tnse_data[:,1], c=y_train.values)\n",
    "# plt.show()"
   ]
  },
  {
   "cell_type": "code",
   "execution_count": 9,
   "metadata": {
    "pycharm": {
     "is_executing": false,
     "name": "#%%\n"
    }
   },
   "outputs": [],
   "source": [
    "from sklearn.linear_model import LogisticRegression\n",
    "from sklearn.calibration import CalibratedClassifierCV\n",
    "from sklearn.metrics import roc_auc_score\n",
    "from sklearn.metrics import log_loss\n",
    "import warnings\n",
    "warnings.filterwarnings(\"ignore\")\n",
    "%matplotlib inline\n",
    "prediction = []"
   ]
  },
  {
   "cell_type": "code",
   "execution_count": 10,
   "metadata": {
    "pycharm": {
     "is_executing": false,
     "name": "#%%\n"
    }
   },
   "outputs": [
    {
     "name": "stdout",
     "text": [
      "Encoding for feature:  f1\n",
      "Encoding for feature:  f2\n",
      "Encoding for feature:  f3\n",
      "Encoding for feature:  f4\n",
      "Encoding for feature:  f7\n",
      "Encoding for feature:  f8\n",
      "Encoding for feature:  f9\n",
      "Encoding for feature:  f12\n",
      "Encoding for feature:  f17\n",
      "Encoding for feature:  f20\n"
     ],
     "output_type": "stream"
    }
   ],
   "source": [
    "from sklearn.feature_extraction.text import CountVectorizer\n",
    "\n",
    "def add_onehot_to_dataframe(sparse, df, vectorizer, name):\n",
    "  '''\n",
    "      This function will add the one hot encoded to the dataframe.\n",
    "\n",
    "  '''\n",
    "  for i, col in enumerate(vectorizer.get_feature_names()):\n",
    "    colname = name+\"_\"+col\n",
    "    # df[colname] = pd.SparseSeries(sparse[:, i].toarray().flatten(), fill_value=0)\n",
    "    df[colname] = sparse[:, i].toarray().ravel().tolist()\n",
    "  \n",
    "  return df\n",
    "\n",
    "def OneHotEncoder(categorical_cols, df):\n",
    "  '''\n",
    "    This function takes categorical column names as inputs. The objective\n",
    "    of this function is to take the column names iteratively and encode the \n",
    "    features using One hot Encoding mechanism and also adding the encoded feature\n",
    "    to the respective dataframe.\n",
    "\n",
    "    The include_cv parameter indicates whether we should include CV dataset or not.\n",
    "    This is added specifically because when using GridSearchCV or RandomizedSearchCV,\n",
    "    we only split the dataset into train and test to give more data to training purposes.\n",
    "    This is done because GridSearchCV splits the data internally anyway.\n",
    "  '''\n",
    "\n",
    "  for i in categorical_cols:\n",
    "    Vectorizer = CountVectorizer(token_pattern=\"[A-Za-z0-9-.]+\")\n",
    "    print(\"Encoding for feature: \", i)\n",
    "    # Encoding training dataset \n",
    "    temp_cols = Vectorizer.fit_transform(df[i])\n",
    "    df = add_onehot_to_dataframe(temp_cols, df, Vectorizer, i)\n",
    "final_test_x = pd.read_csv('data/classificaition_test_x.csv')\n",
    "OneHotEncoder(categorical_cols,final_test_x)\n",
    "final_test_x = final_test_x.drop(categorical_cols, axis=1)\n",
    "final_test_x['f3_c1'] = 0"
   ]
  },
  {
   "cell_type": "code",
   "execution_count": 14,
   "metadata": {
    "pycharm": {
     "is_executing": false,
     "name": "#%%\n"
    }
   },
   "outputs": [],
   "source": []
  },
  {
   "cell_type": "code",
   "execution_count": 15,
   "metadata": {
    "pycharm": {
     "is_executing": false,
     "name": "#%%\n"
    }
   },
   "outputs": [],
   "source": []
  },
  {
   "cell_type": "code",
   "execution_count": 17,
   "metadata": {
    "pycharm": {
     "is_executing": false,
     "name": "#%%\n"
    }
   },
   "outputs": [],
   "source": [
    "final_test_x = pd.read_csv('data/classificaition_test_x.csv')\n",
    "OneHotEncoder(categorical_cols,final_test_x)\n",
    "final_test_x = final_test_x.drop(categorical_cols, axis=1)\n",
    "final_test_x['f3_c1'] = 0\n",
    "\n",
    "def learning_poly(degree=1):\n",
    "    poly_features = PolynomialFeatures(degree=degree)\n",
    "    X_train_poly = poly_features.fit_transform(X_train)\n",
    "    X_cv_poly = poly_features.fit_transform(X_cv)\n",
    "    alpha = [10 ** x for x in range(-5, 4)]\n",
    "    log_loss_array=[]\n",
    "    for i in alpha:\n",
    "        logisticR=LogisticRegression(penalty='l2',C=i,class_weight='balanced')\n",
    "        logisticR.fit(X_train_poly,y_train)\n",
    "        sig_clf = CalibratedClassifierCV(logisticR, method=\"sigmoid\")\n",
    "        sig_clf.fit(X_train_poly, y_train)\n",
    "        predict_y = sig_clf.predict_proba(X_cv_poly)\n",
    "        log_loss_array.append(log_loss(y_cv, predict_y[:,1]))\n",
    "        \n",
    "    for i in range(len(log_loss_array)):\n",
    "        print ('Log Loss for k = ',alpha[i],'is',log_loss_array[i])\n",
    "    \n",
    "    best_alpha = np.argmax(log_loss_array)\n",
    "        \n",
    "    fig, ax = plt.subplots()\n",
    "    ax.plot(alpha, log_loss_array,c='g')\n",
    "    for i, txt in enumerate(np.round(log_loss_array,3)):\n",
    "        ax.annotate((alpha[i],np.round(txt,3)), (alpha[i],log_loss_array[i]))\n",
    "    plt.grid()\n",
    "    plt.title(\"Cross Validation Error for each alpha\")\n",
    "    plt.xlabel(\"Alpha i's\")\n",
    "    plt.ylabel(\"Error measure\")\n",
    "    plt.show()\n",
    "    \n",
    "    logisticR=LogisticRegression(penalty='l2',C=alpha[best_alpha],class_weight='balanced')\n",
    "    logisticR.fit(X_train,y_train)\n",
    "    sig_clf = CalibratedClassifierCV(logisticR, method=\"sigmoid\")\n",
    "    sig_clf.fit(X_train, y_train)\n",
    "        \n",
    "    predict_y = sig_clf.predict_proba(X_train)\n",
    "    print(\"X_train\")\n",
    "    print ('\\tFor values of best alpha = ', alpha[best_alpha], \"\\n\\tThe train AUC is:\",roc_auc_score(y_train, predict_y[:,1]), \"\\n\\tLog loss is: \", log_loss(y_train, predict_y[:,1]))\n",
    "    print(\"X_cv\")\n",
    "    predict_y = sig_clf.predict_proba(X_cv)\n",
    "    print('\\tFor values of best alpha = ', alpha[best_alpha], \"\\n\\tThe cross validation AUC is:\",roc_auc_score(y_cv, predict_y[:,1]), \"\\n\\tLog loss is: \", log_loss(y_cv, predict_y[:,1]))\n",
    "    print(\"X_test\")\n",
    "    predict_y = sig_clf.predict_proba(X_test)\n",
    "    print('\\tFor values of best alpha = ', alpha[best_alpha], \"\\n\\tThe test AUC is:\",roc_auc_score(y_test, predict_y[:,1]), \"\\n\\tLog loss is: \", log_loss(y_test, predict_y[:,1]))\n",
    "    "
   ]
  },
  {
   "cell_type": "code",
   "execution_count": 18,
   "outputs": [
    {
     "name": "stdout",
     "text": [
      "AUC for k =  1e-05 is 0.26816041818275904\n",
      "AUC for k =  0.0001 is 0.24272332042866226\n",
      "AUC for k =  0.001 is 0.23125796592776973\n",
      "AUC for k =  0.01 is 0.22966070751476053\n",
      "AUC for k =  0.1 is 0.22977092350545564\n",
      "AUC for k =  1 is 0.22956588333579034\n",
      "AUC for k =  10 is 0.22994214527474532\n",
      "AUC for k =  100 is 0.22945930571529669\n",
      "AUC for k =  1000 is 0.2291646905631802\n",
      "X_train\n",
      "\tFor values of best alpha =  1e-05 \n",
      "\tThe train AUC is: 0.8821949146566376 \n",
      "\tLog loss is:  0.25881942546032966\n",
      "X_cv\n",
      "\tFor values of best alpha =  1e-05 \n",
      "\tThe cross validation AUC is: 0.8865863589329824 \n",
      "\tLog loss is:  0.2681611762619238\n",
      "X_test\n",
      "\tFor values of best alpha =  1e-05 \n",
      "\tThe test AUC is: 0.884576024877795 \n",
      "\tLog loss is:  0.23683813504529636\n"
     ],
     "output_type": "stream"
    },
    {
     "data": {
      "text/plain": "<Figure size 432x288 with 1 Axes>",
      "image/png": "[encoded data removed]"
     },
     "metadata": {
      "needs_background": "light"
     },
     "output_type": "display_data"
    }
   ],
   "source": [
    "test_y_prob_pd = pd.DataFrame(predict_y[:,1], columns=[\"y\"])\n",
    "test_y_prob_pd.to_csv('test.csv', index_label='id')\n",
    "learning_poly(1)"
   ],
   "metadata": {
    "collapsed": false,
    "pycharm": {
     "name": "#%%\n",
     "is_executing": false
    }
   }
  },
  {
   "cell_type": "code",
   "execution_count": 19,
   "outputs": [
    {
     "name": "stdout",
     "text": [
      "AUC for k =  1e-05 is 0.21461694566491862\n",
      "AUC for k =  0.0001 is 0.21497461394040998\n",
      "AUC for k =  0.001 is 0.21335168591386924\n",
      "AUC for k =  0.01 is 0.21542286477409944\n",
      "AUC for k =  0.1 is 0.21403504745197133\n",
      "AUC for k =  1 is 0.21391565127199616\n",
      "AUC for k =  10 is 0.21467775433891673\n",
      "AUC for k =  100 is 0.21456162614204397\n",
      "AUC for k =  1000 is 0.21501037582203336\n",
      "X_train\n",
      "\tFor values of best alpha =  0.01 \n",
      "\tThe train AUC is: 0.9267840544594433 \n",
      "\tLog loss is:  0.22458849029610448\n",
      "X_cv\n",
      "\tFor values of best alpha =  0.01 \n",
      "\tThe cross validation AUC is: 0.9320201860089841 \n",
      "\tLog loss is:  0.23007919303679275\n",
      "X_test\n",
      "\tFor values of best alpha =  0.01 \n",
      "\tThe test AUC is: 0.9332033978895325 \n",
      "\tLog loss is:  0.20030384868750045\n"
     ],
     "output_type": "stream"
    },
    {
     "data": {
      "text/plain": "<Figure size 432x288 with 1 Axes>",
      "image/png": "[encoded data removed]"
     },
     "metadata": {
      "needs_background": "light"
     },
     "output_type": "display_data"
    }
   ],
   "source": [
    "learning_poly(2)"
   ],
   "metadata": {
    "collapsed": false,
    "pycharm": {
     "name": "#%%\n",
     "is_executing": false
    }
   }
  },
  {
   "cell_type": "code",
   "execution_count": null,
   "outputs": [],
   "source": [],
   "metadata": {
    "collapsed": false,
    "pycharm": {
     "name": "#%%\n"
    }
   }
  },
  {
   "cell_type": "code",
   "execution_count": 20,
   "outputs": [
    {
     "traceback": [
      "\u001b[0;31m---------------------------------------------------------------------------\u001b[0m",
      "\u001b[0;31mKeyboardInterrupt\u001b[0m                         Traceback (most recent call last)",
      "\u001b[0;32m<ipython-input-20-c354946d8090>\u001b[0m in \u001b[0;36m<module>\u001b[0;34m\u001b[0m\n\u001b[0;32m----> 1\u001b[0;31m \u001b[0mlearning_poly\u001b[0m\u001b[0;34m(\u001b[0m\u001b[0;36m3\u001b[0m\u001b[0;34m)\u001b[0m\u001b[0;34m\u001b[0m\u001b[0;34m\u001b[0m\u001b[0m\n\u001b[0m\u001b[1;32m      2\u001b[0m \u001b[0;34m\u001b[0m\u001b[0m\n",
      "\u001b[0;32m<ipython-input-17-329f4002643f>\u001b[0m in \u001b[0;36mlearning_poly\u001b[0;34m(degree)\u001b[0m\n\u001b[1;32m      9\u001b[0m         \u001b[0mlogisticR\u001b[0m\u001b[0;34m.\u001b[0m\u001b[0mfit\u001b[0m\u001b[0;34m(\u001b[0m\u001b[0mX_train_poly\u001b[0m\u001b[0;34m,\u001b[0m\u001b[0my_train\u001b[0m\u001b[0;34m)\u001b[0m\u001b[0;34m\u001b[0m\u001b[0;34m\u001b[0m\u001b[0m\n\u001b[1;32m     10\u001b[0m         \u001b[0msig_clf\u001b[0m \u001b[0;34m=\u001b[0m \u001b[0mCalibratedClassifierCV\u001b[0m\u001b[0;34m(\u001b[0m\u001b[0mlogisticR\u001b[0m\u001b[0;34m,\u001b[0m \u001b[0mmethod\u001b[0m\u001b[0;34m=\u001b[0m\u001b[0;34m\"sigmoid\"\u001b[0m\u001b[0;34m)\u001b[0m\u001b[0;34m\u001b[0m\u001b[0;34m\u001b[0m\u001b[0m\n\u001b[0;32m---> 11\u001b[0;31m         \u001b[0msig_clf\u001b[0m\u001b[0;34m.\u001b[0m\u001b[0mfit\u001b[0m\u001b[0;34m(\u001b[0m\u001b[0mX_train_poly\u001b[0m\u001b[0;34m,\u001b[0m \u001b[0my_train\u001b[0m\u001b[0;34m)\u001b[0m\u001b[0;34m\u001b[0m\u001b[0;34m\u001b[0m\u001b[0m\n\u001b[0m\u001b[1;32m     12\u001b[0m         \u001b[0mpredict_y\u001b[0m \u001b[0;34m=\u001b[0m \u001b[0msig_clf\u001b[0m\u001b[0;34m.\u001b[0m\u001b[0mpredict_proba\u001b[0m\u001b[0;34m(\u001b[0m\u001b[0mX_cv_poly\u001b[0m\u001b[0;34m)\u001b[0m\u001b[0;34m\u001b[0m\u001b[0;34m\u001b[0m\u001b[0m\n\u001b[1;32m     13\u001b[0m         \u001b[0mcv_auc_array\u001b[0m\u001b[0;34m.\u001b[0m\u001b[0mappend\u001b[0m\u001b[0;34m(\u001b[0m\u001b[0mlog_loss\u001b[0m\u001b[0;34m(\u001b[0m\u001b[0my_cv\u001b[0m\u001b[0;34m,\u001b[0m \u001b[0mpredict_y\u001b[0m\u001b[0;34m[\u001b[0m\u001b[0;34m:\u001b[0m\u001b[0;34m,\u001b[0m\u001b[0;36m1\u001b[0m\u001b[0;34m]\u001b[0m\u001b[0;34m)\u001b[0m\u001b[0;34m)\u001b[0m\u001b[0;34m\u001b[0m\u001b[0;34m\u001b[0m\u001b[0m\n",
      "\u001b[0;32m~/.virtualenvs/CSED490_Project/lib/python3.7/site-packages/sklearn/calibration.py\u001b[0m in \u001b[0;36mfit\u001b[0;34m(self, X, y, sample_weight)\u001b[0m\n\u001b[1;32m    176\u001b[0m                                        sample_weight=sample_weight[train])\n\u001b[1;32m    177\u001b[0m                 \u001b[0;32melse\u001b[0m\u001b[0;34m:\u001b[0m\u001b[0;34m\u001b[0m\u001b[0;34m\u001b[0m\u001b[0m\n\u001b[0;32m--> 178\u001b[0;31m                     \u001b[0mthis_estimator\u001b[0m\u001b[0;34m.\u001b[0m\u001b[0mfit\u001b[0m\u001b[0;34m(\u001b[0m\u001b[0mX\u001b[0m\u001b[0;34m[\u001b[0m\u001b[0mtrain\u001b[0m\u001b[0;34m]\u001b[0m\u001b[0;34m,\u001b[0m \u001b[0my\u001b[0m\u001b[0;34m[\u001b[0m\u001b[0mtrain\u001b[0m\u001b[0;34m]\u001b[0m\u001b[0;34m)\u001b[0m\u001b[0;34m\u001b[0m\u001b[0;34m\u001b[0m\u001b[0m\n\u001b[0m\u001b[1;32m    179\u001b[0m \u001b[0;34m\u001b[0m\u001b[0m\n\u001b[1;32m    180\u001b[0m                 calibrated_classifier = _CalibratedClassifier(\n",
      "\u001b[0;31mKeyboardInterrupt\u001b[0m: "
     ],
     "ename": "KeyboardInterrupt",
     "evalue": "",
     "output_type": "error"
    }
   ],
   "source": [],
   "metadata": {
    "collapsed": false,
    "pycharm": {
     "name": "#%%\n",
     "is_executing": false
    }
   }
  }
 ],
 "metadata": {
  "kernelspec": {
   "display_name": "Python 3",
   "language": "python",
   "name": "python3"
  },
  "language_info": {
   "codemirror_mode": {
    "name": "ipython",
    "version": 3
   },
   "file_extension": ".py",
   "mimetype": "text/x-python",
   "name": "python",
   "nbconvert_exporter": "python",
   "pygments_lexer": "ipython3",
   "version": "3.7.6"
  },
  "pycharm": {
   "stem_cell": {
    "cell_type": "raw",
    "source": [],
    "metadata": {
     "collapsed": false
    }
   }
  }
 },
 "nbformat": 4,
 "nbformat_minor": 1
}