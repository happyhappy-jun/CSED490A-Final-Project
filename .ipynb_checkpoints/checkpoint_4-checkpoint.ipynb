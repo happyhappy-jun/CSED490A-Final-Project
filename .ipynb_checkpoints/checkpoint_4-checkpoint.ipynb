{
 "cells": [
  {
   "cell_type": "code",
   "execution_count": 13,
   "metadata": {
    "collapsed": true,
    "pycharm": {
     "is_executing": false
    }
   },
   "outputs": [],
   "source": [
    "import pandas as pd\n",
    "import numpy as np\n",
    "import seaborn as sns\n",
    "from scipy import stats\n",
    "\n",
    "from sklearn import preprocessing, metrics\n",
    "from sklearn.metrics import classification_report\n",
    "from sklearn.metrics import confusion_matrix\n",
    "from sklearn.metrics import accuracy_score\n",
    "from sklearn.decomposition import PCA\n",
    "from sklearn.model_selection import train_test_split\n",
    "from sklearn.preprocessing import StandardScaler, PolynomialFeatures\n",
    "\n",
    "import matplotlib.pyplot as plt\n",
    "from datetime import datetime\n",
    "from sklearn.preprocessing import PolynomialFeatures\n",
    "from sklearn.preprocessing import MinMaxScaler, LabelEncoder\n"
   ]
  },
  {
   "cell_type": "code",
   "execution_count": 14,
   "metadata": {
    "pycharm": {
     "is_executing": false,
     "name": "#%%\n"
    }
   },
   "outputs": [
    {
     "name": "stdout",
     "output_type": "stream",
     "text": [
      "(32950, 21)\n"
     ]
    }
   ],
   "source": [
    "train_x = pd.read_csv('data/classificaition_train_x.csv')\n",
    "train_y = pd.read_csv('data/classificaition_train_y.csv')\n",
    "val_x = pd.read_csv('data/classificaition_val_x.csv')\n",
    "val_y = pd.read_csv('data/classificaition_val_y.csv')\n",
    "train = pd.concat([train_x, train_y], axis = 1)\n",
    "val = pd.concat([val_x, val_y], axis =1)\n",
    "data = pd.concat([train, val], ignore_index = True)\n",
    "print(data.shape)\n",
    "                  "
   ]
  },
  {
   "cell_type": "code",
   "execution_count": 15,
   "metadata": {
    "pycharm": {
     "is_executing": false,
     "name": "#%%\n"
    }
   },
   "outputs": [
    {
     "name": "stdout",
     "output_type": "stream",
     "text": [
      "(32950, 21)\n",
      "(32944, 21)\n",
      "(32944, 21)\n",
      "(32944, 21)\n"
     ]
    }
   ],
   "source": [
    "print(data.shape)\n",
    "data = data.drop_duplicates()\n",
    "print(data.shape)\n",
    "from scipy import stats\n",
    "def catagorize(df):\n",
    "    catags = []\n",
    "    for col in list(df.columns):\n",
    "        if(type(df[col][0])==str):\n",
    "            catags.append(col)\n",
    "    cols = list(df.columns)\n",
    "    quant = [i for i in cols if i not in catags]\n",
    "    return (catags, quant)\n",
    "\n",
    "(categorical_cols,quant) = catagorize(data)\n",
    "print(data.shape)\n",
    "for x in quant:\n",
    "    data[np.abs(data[x]-data[x].mean()) <= (3*data[x].std())]\n",
    "data_x = data.iloc[:,:-1]\n",
    "data_y = data[\"y\"]\n",
    "print(data.shape)"
   ]
  },
  {
   "cell_type": "code",
   "execution_count": 15,
   "metadata": {
    "pycharm": {
     "is_executing": false,
     "name": "#%%\n"
    }
   },
   "outputs": [],
   "source": []
  },
  {
   "cell_type": "code",
   "execution_count": 16,
   "metadata": {
    "pycharm": {
     "is_executing": false,
     "name": "#%%\n"
    }
   },
   "outputs": [],
   "source": [
    "from sklearn.model_selection import train_test_split \n",
    "X_rest, X_test, y_rest, y_test = train_test_split(data_x, data_y, test_size=0.2)\n",
    "X_train, X_cv, y_train, y_cv = train_test_split(X_rest, y_rest, test_size=0.2)\n",
    "\n",
    "\n"
   ]
  },
  {
   "cell_type": "code",
   "execution_count": 17,
   "metadata": {
    "pycharm": {
     "is_executing": false,
     "name": "#%%\n"
    }
   },
   "outputs": [],
   "source": [
    "\n",
    "from sklearn.feature_extraction.text import CountVectorizer\n",
    "\n",
    "def add_onehot_to_dataframe(sparse, df, vectorizer, name):\n",
    "  '''\n",
    "      This function will add the one hot encoded to the dataframe.\n",
    "\n",
    "  '''\n",
    "  for i, col in enumerate(vectorizer.get_feature_names()):\n",
    "    colname = name+\"_\"+col\n",
    "    # df[colname] = pd.SparseSeries(sparse[:, i].toarray().flatten(), fill_value=0)\n",
    "    df[colname] = sparse[:, i].toarray().ravel().tolist()\n",
    "  \n",
    "  return df\n",
    "\n",
    "def OneHotEncoder(categorical_cols, X_train, X_test, X_cv=None, include_cv=False):\n",
    "  '''\n",
    "    This function takes categorical column names as inputs. The objective\n",
    "    of this function is to take the column names iteratively and encode the \n",
    "    features using One hot Encoding mechanism and also adding the encoded feature\n",
    "    to the respective dataframe.\n",
    "\n",
    "    The include_cv parameter indicates whether we should include CV dataset or not.\n",
    "    This is added specifically because when using GridSearchCV or RandomizedSearchCV,\n",
    "    we only split the dataset into train and test to give more data to training purposes.\n",
    "    This is done because GridSearchCV splits the data internally anyway.\n",
    "  '''\n",
    "\n",
    "  for i in categorical_cols:\n",
    "    Vectorizer = CountVectorizer(token_pattern=\"[A-Za-z0-9-.]+\")\n",
    "    print(\"Encoding for feature: \", i)\n",
    "    # Encoding training dataset \n",
    "    temp_cols = Vectorizer.fit_transform(X_train[i])\n",
    "    X_train = add_onehot_to_dataframe(temp_cols, X_train, Vectorizer, i)\n",
    "\n",
    "    # Encoding Cross validation dataset\n",
    "    if include_cv:\n",
    "      temp_cols = Vectorizer.transform(X_cv[i])\n",
    "      X_cv = add_onehot_to_dataframe(temp_cols, X_cv, Vectorizer, i)\n",
    "\n",
    "    # Encoding Test dataset\n",
    "    temp_cols = Vectorizer.transform(X_test[i])\n",
    "    X_test = add_onehot_to_dataframe(temp_cols, X_test, Vectorizer, i)"
   ]
  },
  {
   "cell_type": "code",
   "execution_count": 18,
   "metadata": {
    "pycharm": {
     "is_executing": false,
     "name": "#%%\n"
    }
   },
   "outputs": [],
   "source": [
    "\n",
    "def catagorize(df):\n",
    "    catags = []\n",
    "    for col in list(df.columns):\n",
    "        if(type(df[col][0])==str):\n",
    "            catags.append(col)\n",
    "    cols = list(df.columns)\n",
    "    quant = [i for i in cols if i not in catags]\n",
    "    return (catags, quant)\n",
    "\n",
    "(categorical_cols,_) = catagorize(data_x)\n"
   ]
  },
  {
   "cell_type": "code",
   "execution_count": 19,
   "metadata": {
    "pycharm": {
     "is_executing": false,
     "name": "#%%\n"
    }
   },
   "outputs": [
    {
     "name": "stdout",
     "output_type": "stream",
     "text": [
      "Encoding for feature:  f1\n",
      "Encoding for feature:  f2\n",
      "Encoding for feature:  f3\n",
      "Encoding for feature:  f4\n",
      "Encoding for feature:  f7\n",
      "Encoding for feature:  f8\n",
      "Encoding for feature:  f9\n",
      "Encoding for feature:  f12\n",
      "Encoding for feature:  f17\n",
      "Encoding for feature:  f20\n",
      "Shape of train:  (21084, 63)\n",
      "Shape of CV:  (5271, 63)\n",
      "Shape of test:  (6589, 63)\n"
     ]
    }
   ],
   "source": [
    "(categorical_cols,_) = catagorize(data_x)\n",
    "\n",
    "OneHotEncoder(categorical_cols, X_train, X_test, X_cv, True)\n",
    "\n",
    "# Drop the categorical features as the one hot encoded representation is present\n",
    "X_train = X_train.drop(categorical_cols, axis=1)\n",
    "X_cv = X_cv.drop(categorical_cols, axis=1)\n",
    "X_test = X_test.drop(categorical_cols, axis=1)\n",
    "\n",
    "print(\"Shape of train: \", X_train.shape)\n",
    "print(\"Shape of CV: \", X_cv.shape)\n",
    "print(\"Shape of test: \", X_test.shape)"
   ]
  },
  {
   "cell_type": "code",
   "execution_count": 20,
   "metadata": {
    "pycharm": {
     "is_executing": false,
     "name": "#%%\n"
    }
   },
   "outputs": [],
   "source": [
    "# from sklearn.manifold import TSNE\n",
    "# model = TSNE(n_components=2, random_state=0, perplexity=30)\n",
    "# tnse_data = model.fit_transform(X_train)\n",
    "# plt.figure(figsize=(8,8))\n",
    "# plt.scatter(tnse_data[:,0], tnse_data[:,1], c=y_train.values)\n",
    "# plt.show()"
   ]
  },
  {
   "cell_type": "code",
   "execution_count": 21,
   "metadata": {
    "pycharm": {
     "is_executing": false,
     "name": "#%%\n"
    }
   },
   "outputs": [],
   "source": [
    "from sklearn.linear_model import LogisticRegression\n",
    "from sklearn.calibration import CalibratedClassifierCV\n",
    "from sklearn.metrics import roc_auc_score\n",
    "from sklearn.metrics import log_loss\n",
    "import warnings\n",
    "warnings.filterwarnings(\"ignore\")\n",
    "%matplotlib inline\n",
    "prediction = []"
   ]
  },
  {
   "cell_type": "code",
   "execution_count": 22,
   "metadata": {
    "pycharm": {
     "is_executing": false,
     "name": "#%%\n"
    }
   },
   "outputs": [
    {
     "name": "stdout",
     "output_type": "stream",
     "text": [
      "Encoding for feature:  f1\n",
      "Encoding for feature:  f2\n",
      "Encoding for feature:  f3\n",
      "Encoding for feature:  f4\n",
      "Encoding for feature:  f7\n",
      "Encoding for feature:  f8\n",
      "Encoding for feature:  f9\n",
      "Encoding for feature:  f12\n",
      "Encoding for feature:  f17\n",
      "Encoding for feature:  f20\n"
     ]
    }
   ],
   "source": [
    "from sklearn.feature_extraction.text import CountVectorizer\n",
    "\n",
    "def add_onehot_to_dataframe(sparse, df, vectorizer, name):\n",
    "  '''\n",
    "      This function will add the one hot encoded to the dataframe.\n",
    "\n",
    "  '''\n",
    "  for i, col in enumerate(vectorizer.get_feature_names()):\n",
    "    colname = name+\"_\"+col\n",
    "    # df[colname] = pd.SparseSeries(sparse[:, i].toarray().flatten(), fill_value=0)\n",
    "    df[colname] = sparse[:, i].toarray().ravel().tolist()\n",
    "  \n",
    "  return df\n",
    "\n",
    "def OneHotEncoder(categorical_cols, df):\n",
    "  '''\n",
    "    This function takes categorical column names as inputs. The objective\n",
    "    of this function is to take the column names iteratively and encode the \n",
    "    features using One hot Encoding mechanism and also adding the encoded feature\n",
    "    to the respective dataframe.\n",
    "\n",
    "    The include_cv parameter indicates whether we should include CV dataset or not.\n",
    "    This is added specifically because when using GridSearchCV or RandomizedSearchCV,\n",
    "    we only split the dataset into train and test to give more data to training purposes.\n",
    "    This is done because GridSearchCV splits the data internally anyway.\n",
    "  '''\n",
    "\n",
    "  for i in categorical_cols:\n",
    "    Vectorizer = CountVectorizer(token_pattern=\"[A-Za-z0-9-.]+\")\n",
    "    print(\"Encoding for feature: \", i)\n",
    "    # Encoding training dataset \n",
    "    temp_cols = Vectorizer.fit_transform(df[i])\n",
    "    df = add_onehot_to_dataframe(temp_cols, df, Vectorizer, i)\n",
    "final_test_x = pd.read_csv('data/classificaition_test_x.csv')\n",
    "OneHotEncoder(categorical_cols,final_test_x)\n",
    "final_test_x = final_test_x.drop(categorical_cols, axis=1)\n",
    "final_test_x['f3_c1'] = 0"
   ]
  },
  {
   "cell_type": "code",
   "execution_count": 23,
   "metadata": {
    "pycharm": {
     "is_executing": false,
     "name": "#%%\n"
    }
   },
   "outputs": [
    {
     "name": "stdout",
     "output_type": "stream",
     "text": [
      "AUC for k =  1e-05 is 0.8670523580142688\n",
      "AUC for k =  0.0001 is 0.9088997312851412\n",
      "AUC for k =  0.001 is 0.9197210910816462\n",
      "AUC for k =  0.01 is 0.9198928313276279\n",
      "AUC for k =  0.1 is 0.921346415939702\n",
      "AUC for k =  1 is 0.9218726721954612\n",
      "AUC for k =  10 is 0.9202411398586352\n",
      "AUC for k =  100 is 0.9214457356000287\n",
      "AUC for k =  1000 is 0.9212198523447716\n",
      "X_train\n",
      "\tFor values of best alpha =  1 \n",
      "\tThe train AUC is: 0.9334851277220666 \n",
      "\tLog loss is:  0.21349462223381174\n",
      "X_cv\n",
      "\tFor values of best alpha =  1 \n",
      "\tThe cross validation AUC is: 0.9218726721954612 \n",
      "\tLog loss is:  0.2381602169731427\n",
      "X_test\n",
      "\tFor values of best alpha =  1 \n",
      "\tThe test AUC is: 0.934949632917876 \n",
      "\tLog loss is:  0.21620156256786363\n"
     ]
    },
    {
     "data": {
      "image/png": "[encoded data removed]",
      "text/plain": [
       "<Figure size 432x288 with 1 Axes>"
      ]
     },
     "metadata": {
      "needs_background": "light"
     },
     "output_type": "display_data"
    }
   ],
   "source": [
    "alpha = [10 ** x for x in range(-5, 4)]\n",
    "cv_auc_array=[]\n",
    "for i in alpha:\n",
    "    logisticR=LogisticRegression(penalty='l2',C=i,class_weight='balanced')\n",
    "    logisticR.fit(X_train,y_train)\n",
    "    sig_clf = CalibratedClassifierCV(logisticR, method=\"sigmoid\")\n",
    "    sig_clf.fit(X_train, y_train)\n",
    "    predict_y = sig_clf.predict_proba(X_cv)\n",
    "    cv_auc_array.append(roc_auc_score(y_cv, predict_y[:,1]))\n",
    "    \n",
    "for i in range(len(cv_auc_array)):\n",
    "    print ('AUC for k = ',alpha[i],'is',cv_auc_array[i])\n",
    "\n",
    "best_alpha = np.argmax(cv_auc_array)\n",
    "    \n",
    "fig, ax = plt.subplots()\n",
    "ax.plot(alpha, cv_auc_array,c='g')\n",
    "for i, txt in enumerate(np.round(cv_auc_array,3)):\n",
    "    ax.annotate((alpha[i],np.round(txt,3)), (alpha[i],cv_auc_array[i]))\n",
    "plt.grid()\n",
    "plt.title(\"Cross Validation Error for each alpha\")\n",
    "plt.xlabel(\"Alpha i's\")\n",
    "plt.ylabel(\"Error measure\")\n",
    "plt.show()\n",
    "\n",
    "logisticR=LogisticRegression(penalty='l2',C=alpha[best_alpha],class_weight='balanced')\n",
    "logisticR.fit(X_train,y_train)\n",
    "sig_clf = CalibratedClassifierCV(logisticR, method=\"sigmoid\")\n",
    "sig_clf.fit(X_train, y_train)\n",
    "    \n",
    "predict_y = sig_clf.predict_proba(X_train)\n",
    "print(\"X_train\")\n",
    "print ('\\tFor values of best alpha = ', alpha[best_alpha], \"\\n\\tThe train AUC is:\",roc_auc_score(y_train, predict_y[:,1]), \"\\n\\tLog loss is: \", log_loss(y_train, predict_y[:,1]))\n",
    "print(\"X_cv\")\n",
    "predict_y = sig_clf.predict_proba(X_cv)\n",
    "print('\\tFor values of best alpha = ', alpha[best_alpha], \"\\n\\tThe cross validation AUC is:\",roc_auc_score(y_cv, predict_y[:,1]), \"\\n\\tLog loss is: \", log_loss(y_cv, predict_y[:,1]))\n",
    "print(\"X_test\")\n",
    "predict_y = sig_clf.predict_proba(X_test)\n",
    "print('\\tFor values of best alpha = ', alpha[best_alpha], \"\\n\\tThe test AUC is:\",roc_auc_score(y_test, predict_y[:,1]), \"\\n\\tLog loss is: \", log_loss(y_test, predict_y[:,1]))\n",
    "x = sig_clf.predict_proba(final_test_x)\n",
    "test_y_prob_pd = pd.DataFrame(x[:,1], columns=[\"y\"])\n",
    "test_y_prob_pd.to_csv('output_'+str(datetime.now().strftime(\"%d-%m-%Y_%H:%M:%S\"))+'LR.csv', index_label='id')"
   ]
  },
  {
   "cell_type": "code",
   "execution_count": 24,
   "metadata": {
    "pycharm": {
     "is_executing": false,
     "name": "#%%\n"
    }
   },
   "outputs": [
    {
     "name": "stdout",
     "output_type": "stream",
     "text": [
      "AUC for alpha =  1e-05 is 0.5\n",
      "AUC for alpha =  0.0001 is 0.5\n",
      "AUC for alpha =  0.001 is 0.5\n",
      "AUC for alpha =  0.01 is 0.8644093514977956\n",
      "AUC for alpha =  0.1 is 0.8668761345891753\n",
      "AUC for alpha =  1 is 0.8629316266905034\n",
      "AUC for alpha =  10 is 0.8546546434700083\n",
      "AUC for alpha =  100 is 0.8476488139577231\n",
      "AUC for alpha =  1000 is 0.84395708838898\n",
      "X_train\n",
      "\tFor values of best alpha =  0.1 \n",
      "\tThe train AUC is: 0.8857298040368738 \n",
      "\tLog loss is:  0.2516568308627147\n",
      "X_cv\n",
      "\tFor values of best alpha =  0.1 \n",
      "\tThe cross validation AUC is: 0.864893189981957 \n",
      "\tLog loss is:  0.279227611672838\n",
      "X_test\n",
      "\tFor values of best alpha =  0.1 \n",
      "\tThe test AUC is: 0.8744470910059515 \n",
      "\tLog loss is:  0.26261913038252915\n"
     ]
    },
    {
     "data": {
      "image/png": "[encoded data removed]",
      "text/plain": [
       "<Figure size 432x288 with 1 Axes>"
      ]
     },
     "metadata": {
      "needs_background": "light"
     },
     "output_type": "display_data"
    }
   ],
   "source": [
    "%matplotlib inline\n",
    "from sklearn.linear_model import SGDClassifier\n",
    "alpha = [10 ** x for x in range(-5, 4)]\n",
    "cv_auc_array=[]\n",
    "for i in alpha:\n",
    "    linearSVM = SGDClassifier(penalty='l2',alpha=i,class_weight='balanced')\n",
    "    linearSVM.fit(X_train,y_train)\n",
    "    sig_clf = CalibratedClassifierCV(linearSVM, method=\"sigmoid\")\n",
    "    sig_clf.fit(X_train, y_train)\n",
    "    predict_y = sig_clf.predict_proba(X_cv)\n",
    "    cv_auc_array.append(roc_auc_score(y_cv, predict_y[:,1]))\n",
    "    \n",
    "for i in range(len(cv_auc_array)):\n",
    "    print ('AUC for alpha = ',alpha[i],'is',cv_auc_array[i])\n",
    "\n",
    "best_alpha = np.argmax(cv_auc_array)\n",
    "    \n",
    "fig, ax = plt.subplots()\n",
    "ax.plot(alpha, cv_auc_array,c='g')\n",
    "for i, txt in enumerate(np.round(cv_auc_array,3)):\n",
    "    ax.annotate((alpha[i],np.round(txt,3)), (alpha[i],cv_auc_array[i]))\n",
    "plt.grid()\n",
    "plt.title(\"Cross Validation Error for each alpha\")\n",
    "plt.xlabel(\"Alpha i's\")\n",
    "plt.ylabel(\"Error measure\")\n",
    "plt.show()\n",
    "\n",
    "linearSVM = SGDClassifier(penalty='l2', alpha=alpha[best_alpha], class_weight='balanced')\n",
    "linearSVM.fit(X_train,y_train)\n",
    "sig_clf = CalibratedClassifierCV(linearSVM, method=\"sigmoid\")\n",
    "sig_clf.fit(X_train, y_train)\n",
    "    \n",
    "predict_y = sig_clf.predict_proba(X_train)\n",
    "print(\"X_train\")\n",
    "print ('\\tFor values of best alpha = ', alpha[best_alpha], \"\\n\\tThe train AUC is:\",roc_auc_score(y_train, predict_y[:,1]), \"\\n\\tLog loss is: \", log_loss(y_train, predict_y[:,1]))\n",
    "print(\"X_cv\")\n",
    "predict_y = sig_clf.predict_proba(X_cv)\n",
    "print('\\tFor values of best alpha = ', alpha[best_alpha], \"\\n\\tThe cross validation AUC is:\",roc_auc_score(y_cv, predict_y[:,1]), \"\\n\\tLog loss is: \", log_loss(y_cv, predict_y[:,1]))\n",
    "print(\"X_test\")\n",
    "predict_y = sig_clf.predict_proba(X_test)\n",
    "print('\\tFor values of best alpha = ', alpha[best_alpha], \"\\n\\tThe test AUC is:\",roc_auc_score(y_test, predict_y[:,1]), \"\\n\\tLog loss is: \", log_loss(y_test, predict_y[:,1]))\n",
    "prediction.append(sig_clf.predict_proba(final_test_x))"
   ]
  },
  {
   "cell_type": "code",
   "execution_count": 25,
   "metadata": {
    "pycharm": {
     "is_executing": false,
     "name": "#%%\n"
    }
   },
   "outputs": [
    {
     "name": "stdout",
     "output_type": "stream",
     "text": [
      "AUC for alpha =  1e-05 is 0.5\n",
      "AUC for alpha =  0.0001 is 0.5\n",
      "AUC for alpha =  0.001 is 0.5\n",
      "AUC for alpha =  0.01 is 0.8668609607521809\n",
      "AUC for alpha =  0.1 is 0.8659512202523821\n",
      "AUC for alpha =  1 is 0.8658487968526704\n",
      "AUC for alpha =  10 is 0.8512484619247046\n",
      "AUC for alpha =  100 is 0.8467625239332793\n",
      "AUC for alpha =  1000 is 0.8441757295856716\n",
      "X_train\n",
      "\tFor values of best alpha =  0.01 \n",
      "\tThe train AUC is: 0.8887209197087458 \n",
      "\tLog loss is:  0.25099973740212095\n",
      "X_cv\n",
      "\tFor values of best alpha =  0.01 \n",
      "\tThe cross validation AUC is: 0.8679789966507204 \n",
      "\tLog loss is:  0.2787410228872904\n",
      "X_test\n",
      "\tFor values of best alpha =  0.01 \n",
      "\tThe test AUC is: 0.8780614667797442 \n",
      "\tLog loss is:  0.2620120279633128\n"
     ]
    },
    {
     "data": {
      "image/png": "[encoded data removed]",
      "text/plain": [
       "<Figure size 432x288 with 1 Axes>"
      ]
     },
     "metadata": {
      "needs_background": "light"
     },
     "output_type": "display_data"
    }
   ],
   "source": [
    "alpha = [10 ** x for x in range(-5, 4)]\n",
    "cv_auc_array=[]\n",
    "for i in alpha:\n",
    "    linearSVM = SGDClassifier(penalty='l2',alpha=i,class_weight='balanced')\n",
    "    linearSVM.fit(X_train,y_train)\n",
    "    sig_clf = CalibratedClassifierCV(linearSVM, method=\"sigmoid\")\n",
    "    sig_clf.fit(X_train, y_train)\n",
    "    predict_y = sig_clf.predict_proba(X_cv)\n",
    "    cv_auc_array.append(roc_auc_score(y_cv, predict_y[:,1]))\n",
    "    \n",
    "for i in range(len(cv_auc_array)):\n",
    "    print ('AUC for alpha = ',alpha[i],'is',cv_auc_array[i])\n",
    "\n",
    "best_alpha = np.argmax(cv_auc_array)\n",
    "    \n",
    "fig, ax = plt.subplots()\n",
    "ax.plot(alpha, cv_auc_array,c='g')\n",
    "for i, txt in enumerate(np.round(cv_auc_array,3)):\n",
    "    ax.annotate((alpha[i],np.round(txt,3)), (alpha[i],cv_auc_array[i]))\n",
    "plt.grid()\n",
    "plt.title(\"Cross Validation Error for each alpha\")\n",
    "plt.xlabel(\"Alpha i's\")\n",
    "plt.ylabel(\"Error measure\")\n",
    "plt.show()\n",
    "\n",
    "linearSVM = SGDClassifier(penalty='l2', alpha=alpha[best_alpha], class_weight='balanced')\n",
    "linearSVM.fit(X_train,y_train)\n",
    "sig_clf = CalibratedClassifierCV(linearSVM, method=\"sigmoid\")\n",
    "sig_clf.fit(X_train, y_train)\n",
    "    \n",
    "predict_y = sig_clf.predict_proba(X_train)\n",
    "print(\"X_train\")\n",
    "print ('\\tFor values of best alpha = ', alpha[best_alpha], \"\\n\\tThe train AUC is:\",roc_auc_score(y_train, predict_y[:,1]), \"\\n\\tLog loss is: \", log_loss(y_train, predict_y[:,1]))\n",
    "print(\"X_cv\")\n",
    "predict_y = sig_clf.predict_proba(X_cv)\n",
    "print('\\tFor values of best alpha = ', alpha[best_alpha], \"\\n\\tThe cross validation AUC is:\",roc_auc_score(y_cv, predict_y[:,1]), \"\\n\\tLog loss is: \", log_loss(y_cv, predict_y[:,1]))\n",
    "print(\"X_test\")\n",
    "predict_y = sig_clf.predict_proba(X_test)\n",
    "print('\\tFor values of best alpha = ', alpha[best_alpha], \"\\n\\tThe test AUC is:\",roc_auc_score(y_test, predict_y[:,1]), \"\\n\\tLog loss is: \", log_loss(y_test, predict_y[:,1]))\n",
    "prediction.append(sig_clf.predict_proba(final_test_x))"
   ]
  },
  {
   "cell_type": "code",
   "execution_count": 26,
   "metadata": {
    "pycharm": {
     "is_executing": false,
     "name": "#%%\n"
    }
   },
   "outputs": [],
   "source": [
    "test_y_prob_pd = pd.DataFrame(predict_y[:,1], columns=[\"y\"])\n",
    "test_y_prob_pd.to_csv('test.csv', index_label='id')"
   ]
  },
  {
   "cell_type": "code",
   "execution_count": 27,
   "metadata": {
    "pycharm": {
     "is_executing": false,
     "name": "#%%\n"
    }
   },
   "outputs": [],
   "source": [
    "\n",
    "\n",
    "def create_output(predict):\n",
    "    cnt = 0\n",
    "    for x in predict:\n",
    "        test_y_prob_pd = pd.DataFrame(x[:,1], columns=[\"y\"])\n",
    "        test_y_prob_pd.to_csv('output_'+str(cnt)+\"_\"+str(now.strftime(\"%d-%m-%Y_%H:%M:%S\"))+'.csv', index_label='id')\n",
    "        cnt+=1\n"
   ]
  },
  {
   "cell_type": "code",
   "execution_count": 29,
   "metadata": {
    "pycharm": {
     "is_executing": false,
     "name": "#%%\n"
    }
   },
   "outputs": [
    {
     "ename": "AttributeError",
     "evalue": "'DataFrame' object has no attribute 'colnums'",
     "output_type": "error",
     "traceback": [
      "\u001b[0;31m---------------------------------------------------------------------------\u001b[0m",
      "\u001b[0;31mAttributeError\u001b[0m                            Traceback (most recent call last)",
      "\u001b[0;32m<ipython-input-29-a50dcca58cff>\u001b[0m in \u001b[0;36m<module>\u001b[0;34m\u001b[0m\n\u001b[1;32m     17\u001b[0m         \u001b[0msig_clf\u001b[0m \u001b[0;34m=\u001b[0m \u001b[0mCalibratedClassifierCV\u001b[0m\u001b[0;34m(\u001b[0m\u001b[0mlogisticR\u001b[0m\u001b[0;34m,\u001b[0m \u001b[0mmethod\u001b[0m\u001b[0;34m=\u001b[0m\u001b[0;34m\"sigmoid\"\u001b[0m\u001b[0;34m)\u001b[0m\u001b[0;34m\u001b[0m\u001b[0;34m\u001b[0m\u001b[0m\n\u001b[1;32m     18\u001b[0m         \u001b[0msig_clf\u001b[0m\u001b[0;34m.\u001b[0m\u001b[0mfit\u001b[0m\u001b[0;34m(\u001b[0m\u001b[0mX_train_poly\u001b[0m\u001b[0;34m[\u001b[0m\u001b[0mx\u001b[0m\u001b[0;34m]\u001b[0m\u001b[0;34m,\u001b[0m \u001b[0my_train\u001b[0m\u001b[0;34m)\u001b[0m\u001b[0;34m\u001b[0m\u001b[0;34m\u001b[0m\u001b[0m\n\u001b[0;32m---> 19\u001b[0;31m         \u001b[0;32mfor\u001b[0m \u001b[0mcols\u001b[0m \u001b[0;32min\u001b[0m \u001b[0mX_cv\u001b[0m\u001b[0;34m.\u001b[0m\u001b[0mcolnums\u001b[0m\u001b[0;34m:\u001b[0m\u001b[0;34m\u001b[0m\u001b[0;34m\u001b[0m\u001b[0m\n\u001b[0m\u001b[1;32m     20\u001b[0m             \u001b[0mprint\u001b[0m\u001b[0;34m(\u001b[0m\u001b[0mcols\u001b[0m\u001b[0;34m)\u001b[0m\u001b[0;34m\u001b[0m\u001b[0;34m\u001b[0m\u001b[0m\n\u001b[1;32m     21\u001b[0m         \u001b[0mpredict_y\u001b[0m \u001b[0;34m=\u001b[0m \u001b[0msig_clf\u001b[0m\u001b[0;34m.\u001b[0m\u001b[0mpredict_proba\u001b[0m\u001b[0;34m(\u001b[0m\u001b[0mX_cv\u001b[0m\u001b[0;34m)\u001b[0m\u001b[0;34m\u001b[0m\u001b[0;34m\u001b[0m\u001b[0m\n",
      "\u001b[0;32m~/.virtualenvs/CSED490_Project/lib/python3.7/site-packages/pandas/core/generic.py\u001b[0m in \u001b[0;36m__getattr__\u001b[0;34m(self, name)\u001b[0m\n\u001b[1;32m   5272\u001b[0m             \u001b[0;32mif\u001b[0m \u001b[0mself\u001b[0m\u001b[0;34m.\u001b[0m\u001b[0m_info_axis\u001b[0m\u001b[0;34m.\u001b[0m\u001b[0m_can_hold_identifiers_and_holds_name\u001b[0m\u001b[0;34m(\u001b[0m\u001b[0mname\u001b[0m\u001b[0;34m)\u001b[0m\u001b[0;34m:\u001b[0m\u001b[0;34m\u001b[0m\u001b[0;34m\u001b[0m\u001b[0m\n\u001b[1;32m   5273\u001b[0m                 \u001b[0;32mreturn\u001b[0m \u001b[0mself\u001b[0m\u001b[0;34m[\u001b[0m\u001b[0mname\u001b[0m\u001b[0;34m]\u001b[0m\u001b[0;34m\u001b[0m\u001b[0;34m\u001b[0m\u001b[0m\n\u001b[0;32m-> 5274\u001b[0;31m             \u001b[0;32mreturn\u001b[0m \u001b[0mobject\u001b[0m\u001b[0;34m.\u001b[0m\u001b[0m__getattribute__\u001b[0m\u001b[0;34m(\u001b[0m\u001b[0mself\u001b[0m\u001b[0;34m,\u001b[0m \u001b[0mname\u001b[0m\u001b[0;34m)\u001b[0m\u001b[0;34m\u001b[0m\u001b[0;34m\u001b[0m\u001b[0m\n\u001b[0m\u001b[1;32m   5275\u001b[0m \u001b[0;34m\u001b[0m\u001b[0m\n\u001b[1;32m   5276\u001b[0m     \u001b[0;32mdef\u001b[0m \u001b[0m__setattr__\u001b[0m\u001b[0;34m(\u001b[0m\u001b[0mself\u001b[0m\u001b[0;34m,\u001b[0m \u001b[0mname\u001b[0m\u001b[0;34m:\u001b[0m \u001b[0mstr\u001b[0m\u001b[0;34m,\u001b[0m \u001b[0mvalue\u001b[0m\u001b[0;34m)\u001b[0m \u001b[0;34m->\u001b[0m \u001b[0;32mNone\u001b[0m\u001b[0;34m:\u001b[0m\u001b[0;34m\u001b[0m\u001b[0;34m\u001b[0m\u001b[0m\n",
      "\u001b[0;31mAttributeError\u001b[0m: 'DataFrame' object has no attribute 'colnums'"
     ]
    }
   ],
   "source": [
    "from sklearn.preprocessing import PolynomialFeatures\n",
    "\n",
    "poly_features_1 = PolynomialFeatures(degree=1)\n",
    "poly_features_2 = PolynomialFeatures(degree=2)\n",
    "poly_features_3 = PolynomialFeatures(degree=3)\n",
    "X_train_poly = []\n",
    "X_train_poly.append(poly_features_1.fit_transform(X_train))\n",
    "X_train_poly.append(poly_features_2.fit_transform(X_train))\n",
    "X_train_poly.append(poly_features_3.fit_transform(X_train))\n",
    "\n",
    "alpha = [10 ** x for x in range(-5, 4)]\n",
    "for x in range(len(X_train_poly)):\n",
    "    cv_auc_array=[]\n",
    "    for i in alpha:\n",
    "        logisticR=LogisticRegression(penalty='l2',C=i,class_weight='balanced')\n",
    "        logisticR.fit(X_train_poly[x],y_train)\n",
    "        sig_clf = CalibratedClassifierCV(logisticR, method=\"sigmoid\")\n",
    "        sig_clf.fit(X_train_poly[x], y_train)\n",
    "        for cols in X_cv.colnums:\n",
    "            print(cols)\n",
    "        predict_y = sig_clf.predict_proba(X_cv)\n",
    "        cv_auc_array.append(roc_auc_score(y_cv, predict_y[:,1]))\n",
    "        \n",
    "    for i in range(len(cv_auc_array)):\n",
    "        print ('AUC for k = ',alpha[i],'is',cv_auc_array[i])\n",
    "    \n",
    "    best_alpha = np.argmax(cv_auc_array)\n",
    "        \n",
    "    fig, ax = plt.subplots()\n",
    "    ax.plot(alpha, cv_auc_array,c='g')\n",
    "    for i, txt in enumerate(np.round(cv_auc_array,3)):\n",
    "        ax.annotate((alpha[i],np.round(txt,3)), (alpha[i],cv_auc_array[i]))\n",
    "    plt.grid()\n",
    "    plt.title(\"Cross Validation Error for each alpha\")\n",
    "    plt.xlabel(\"Alpha i's\")\n",
    "    plt.ylabel(\"Error measure\")\n",
    "    plt.show()\n",
    "\n",
    "# logisticR=LogisticRegression(penalty='l2',C=alpha[best_alpha],class_weight='balanced')\n",
    "# logisticR.fit(X_train,y_train)\n",
    "# sig_clf = CalibratedClassifierCV(logisticR, method=\"sigmoid\")\n",
    "# sig_clf.fit(X_train, y_train)\n",
    "#     \n",
    "# predict_y = sig_clf.predict_proba(X_train)\n",
    "# print(\"X_train\")\n",
    "# print ('\\tFor values of best alpha = ', alpha[best_alpha], \"\\n\\tThe train AUC is:\",roc_auc_score(y_train, predict_y[:,1]), \"\\n\\tLog loss is: \", log_loss(y_train, predict_y[:,1]))\n",
    "# print(\"X_cv\")\n",
    "# predict_y = sig_clf.predict_proba(X_cv)\n",
    "# print('\\tFor values of best alpha = ', alpha[best_alpha], \"\\n\\tThe cross validation AUC is:\",roc_auc_score(y_cv, predict_y[:,1]), \"\\n\\tLog loss is: \", log_loss(y_cv, predict_y[:,1]))\n",
    "# print(\"X_test\")\n",
    "# predict_y = sig_clf.predict_proba(X_test)\n",
    "# print('\\tFor values of best alpha = ', alpha[best_alpha], \"\\n\\tThe test AUC is:\",roc_auc_score(y_test, predict_y[:,1]), \"\\n\\tLog loss is: \", log_loss(y_test, predict_y[:,1]))\n",
    "# x = sig_clf.predict_proba(final_test_x)\n",
    "# test_y_prob_pd = pd.DataFrame(x[:,1], columns=[\"y\"])\n",
    "# test_y_prob_pd.to_csv('output_'+str(datetime.now().strftime(\"%d-%m-%Y_%H:%M:%S\"))+'LR.csv', index_label='id')"
   ]
  }
 ],
 "metadata": {
  "kernelspec": {
   "display_name": "Python 3",
   "language": "python",
   "name": "python3"
  },
  "language_info": {
   "codemirror_mode": {
    "name": "ipython",
    "version": 3
   },
   "file_extension": ".py",
   "mimetype": "text/x-python",
   "name": "python",
   "nbconvert_exporter": "python",
   "pygments_lexer": "ipython3",
   "version": "3.7.6"
  },
  "pycharm": {
   "stem_cell": {
    "cell_type": "raw",
    "metadata": {
     "collapsed": false
    },
    "source": []
   }
  }
 },
 "nbformat": 4,
 "nbformat_minor": 1
}
