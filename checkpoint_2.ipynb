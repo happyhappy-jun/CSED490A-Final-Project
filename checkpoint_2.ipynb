{
 "cells": [
  {
   "cell_type": "code",
   "execution_count": 1,
   "outputs": [],
   "source": [
    "import pandas as pd\n",
    "import numpy as np\n",
    "import seaborn as sns\n",
    "from sklearn import preprocessing, metrics\n",
    "from sklearn.metrics import classification_report\n",
    "from sklearn.metrics import confusion_matrix\n",
    "from sklearn.metrics import accuracy_score\n",
    "from sklearn.decomposition import PCA\n",
    "from sklearn.model_selection import train_test_split\n",
    "from sklearn.preprocessing import StandardScaler, PolynomialFeatures\n",
    "\n",
    "import matplotlib.pyplot as plt\n",
    "\n"
   ],
   "metadata": {
    "collapsed": false,
    "pycharm": {
     "name": "#%%\n",
     "is_executing": false
    }
   }
  },
  {
   "cell_type": "code",
   "execution_count": 2,
   "metadata": {
    "collapsed": true,
    "pycharm": {
     "is_executing": false
    }
   },
   "outputs": [],
   "source": [
    "train_x = pd.read_csv('data/classificaition_train_x.csv')\n",
    "train_y = pd.read_csv('data/classificaition_train_y.csv')\n",
    "val_x = pd.read_csv('data/classificaition_val_x.csv')\n",
    "val_y = pd.read_csv('data/classificaition_val_y.csv')\n",
    "train = pd.concat([train_x, train_y], axis = 1)"
   ]
  },
  {
   "cell_type": "code",
   "execution_count": 3,
   "outputs": [
    {
     "data": {
      "text/plain": "<matplotlib.axes._subplots.AxesSubplot at 0x13aba4090>"
     },
     "metadata": {},
     "output_type": "execute_result",
     "execution_count": 3
    },
    {
     "data": {
      "text/plain": "<Figure size 432x288 with 1 Axes>",
      "image/png": "[encoded data removed]"
     },
     "metadata": {},
     "output_type": "display_data"
    }
   ],
   "source": [
    "sns.set(style=\"ticks\", color_codes=True)\n",
    "save = train[train['f10']!=899.1]\n",
    "# sns.countplot(hue = 'y', x = 'f10', data = save)\n",
    "discretized = pd.qcut(save['f10'],\n",
    "                            q=[0,.4, 1],\n",
    "                            labels=False,\n",
    "                            precision=0)\n",
    "save.insert(save.columns.get_loc('f10'), \"f10_dis\", discretized)\n",
    "sns.countplot(hue = 'y', x = 'f10_dis', data = save)"
   ],
   "metadata": {
    "collapsed": false,
    "pycharm": {
     "name": "#%%\n",
     "is_executing": false
    }
   }
  },
  {
   "cell_type": "code",
   "execution_count": 4,
   "outputs": [],
   "source": [
    "def f10(df):\n",
    "    b = df[df['f10']!=899.1].quantile(0.4)['f10']\n",
    "    dis = pd.cut(df['f10'], bins=[-99999, b, 899, 999999], labels=[0, 1,2])\n",
    "    df['f10'] = dis\n",
    "    return df"
   ],
   "metadata": {
    "collapsed": false,
    "pycharm": {
     "name": "#%%\n",
     "is_executing": false
    }
   }
  },
  {
   "cell_type": "code",
   "execution_count": 5,
   "outputs": [],
   "source": [
    "def catagorize(df):\n",
    "    catags = []\n",
    "    for col in list(df.columns):\n",
    "        if(type(df[col][0])==str):\n",
    "            catags.append(col)\n",
    "    cols = list(df.columns)\n",
    "    quant = [i for i in cols if i not in catags]\n",
    "    return (catags, quant)\n",
    "\n",
    "def encoder(df):\n",
    "    catags = catagorize(df)[0]\n",
    "    temp = df.copy()\n",
    "    enc = preprocessing.LabelEncoder()\n",
    "    \n",
    "    for col in catags:\n",
    "        temp[col] = enc.fit_transform(temp[col])\n",
    "    return temp"
   ],
   "metadata": {
    "collapsed": false,
    "pycharm": {
     "name": "#%%\n",
     "is_executing": false
    }
   }
  },
  {
   "cell_type": "code",
   "execution_count": 6,
   "outputs": [
    {
     "data": {
      "text/plain": "<matplotlib.axes._subplots.AxesSubplot at 0x13ccf70d0>"
     },
     "metadata": {},
     "output_type": "execute_result",
     "execution_count": 6
    },
    {
     "data": {
      "text/plain": "<Figure size 432x288 with 1 Axes>",
      "image/png": "[encoded data removed]"
     },
     "metadata": {},
     "output_type": "display_data"
    }
   ],
   "source": [
    "sns.set(style=\"ticks\", color_codes=True)\n",
    "\n",
    "sns.countplot(y='f19', data=train)\n"
   ],
   "metadata": {
    "collapsed": false,
    "pycharm": {
     "name": "#%%\n",
     "is_executing": false
    }
   }
  },
  {
   "cell_type": "code",
   "execution_count": 7,
   "outputs": [],
   "source": [
    "def remove_unknown(df):\n",
    "    remove_cand = [('f1', 'c11'),  ('f7', 'c2')]\n",
    "    remove = [('f3', 'c1'), ('f4', 'c4'), ('f9', 'c3'), ('f11', 5176.3), ('f15', 0.2)]\n",
    "    for r in remove:\n",
    "        df = df[df[r[0]] != r[1]]\n",
    "    df = df[df['f19'] < 4]\n",
    "    return df"
   ],
   "metadata": {
    "collapsed": false,
    "pycharm": {
     "name": "#%%\n",
     "is_executing": false
    }
   }
  },
  {
   "cell_type": "code",
   "execution_count": 8,
   "outputs": [
    {
     "data": {
      "text/plain": "        f1  f2  f3  f4  f5  f6  f7  f8  f9 f10  ...  f12      f13    f14  f15  \\\n0      c11  c0  c0  c7  53   1  c0  c3  c2   2  ...   c1  65.7426 -34.16  1.4   \n1       c5  c1  c2  c0  48  17  c1  c0  c1   2  ...   c1  65.7426 -34.16  1.4   \n2       c0  c0  c0  c6  29   1  c0  c2  c2   2  ...   c0  65.0251 -36.96 -1.8   \n3       c1  c0  c0  c2  25   2  c1  c3  c2   2  ...   c1  65.7426 -34.16  1.4   \n4       c6  c0  c0  c6  40   3  c0  c0  c2   2  ...   c1  65.1525 -37.68 -1.8   \n...    ...  ..  ..  ..  ..  ..  ..  ..  ..  ..  ...  ...      ...    ...  ...   \n26355   c1  c1  c0  c0  28   1  c0  c4  c0   2  ...   c0  65.7426 -34.16  1.4   \n26356   c9  c1  c2  c2  31   9  c0  c0  c1   2  ...   c1  65.7958 -29.12  1.1   \n26357   c4  c1  c2  c3  33   1  c0  c2  c1   2  ...   c1  65.7958 -29.12  1.1   \n26358   c9  c0  c0  c7  53   6  c0  c0  c0   2  ...   c1  65.0251 -36.96 -1.8   \n26359   c7  c1  c0  c3  30   2  c0  c2  c2   2  ...   c1  65.7958 -29.12  1.1   \n\n          f16  f17  f18  f19  f20  y  \n0      2.9772   c1  343    0   c6  0  \n1      2.9772   c1   27    0   c6  0  \n2      0.8004   c0  401    1   c4  0  \n3      2.9772   c1  212    0   c6  0  \n4      0.8430   c1  379    0   c3  0  \n...       ...  ...  ...  ...  ... ..  \n26355  2.9754   c1  327    0   c6  0  \n26356  2.9148   c1  179    0   c4  0  \n26357  2.9148   c1  641    0   c4  0  \n26358  0.7464   c1   35    0   c4  0  \n26359  2.9148   c1  190    0   c4  0  \n\n[26360 rows x 21 columns]",
      "text/html": "<div>\n<style scoped>\n    .dataframe tbody tr th:only-of-type {\n        vertical-align: middle;\n    }\n\n    .dataframe tbody tr th {\n        vertical-align: top;\n    }\n\n    .dataframe thead th {\n        text-align: right;\n    }\n</style>\n<table border=\"1\" class=\"dataframe\">\n  <thead>\n    <tr style=\"text-align: right;\">\n      <th></th>\n      <th>f1</th>\n      <th>f2</th>\n      <th>f3</th>\n      <th>f4</th>\n      <th>f5</th>\n      <th>f6</th>\n      <th>f7</th>\n      <th>f8</th>\n      <th>f9</th>\n      <th>f10</th>\n      <th>...</th>\n      <th>f12</th>\n      <th>f13</th>\n      <th>f14</th>\n      <th>f15</th>\n      <th>f16</th>\n      <th>f17</th>\n      <th>f18</th>\n      <th>f19</th>\n      <th>f20</th>\n      <th>y</th>\n    </tr>\n  </thead>\n  <tbody>\n    <tr>\n      <th>0</th>\n      <td>c11</td>\n      <td>c0</td>\n      <td>c0</td>\n      <td>c7</td>\n      <td>53</td>\n      <td>1</td>\n      <td>c0</td>\n      <td>c3</td>\n      <td>c2</td>\n      <td>2</td>\n      <td>...</td>\n      <td>c1</td>\n      <td>65.7426</td>\n      <td>-34.16</td>\n      <td>1.4</td>\n      <td>2.9772</td>\n      <td>c1</td>\n      <td>343</td>\n      <td>0</td>\n      <td>c6</td>\n      <td>0</td>\n    </tr>\n    <tr>\n      <th>1</th>\n      <td>c5</td>\n      <td>c1</td>\n      <td>c2</td>\n      <td>c0</td>\n      <td>48</td>\n      <td>17</td>\n      <td>c1</td>\n      <td>c0</td>\n      <td>c1</td>\n      <td>2</td>\n      <td>...</td>\n      <td>c1</td>\n      <td>65.7426</td>\n      <td>-34.16</td>\n      <td>1.4</td>\n      <td>2.9772</td>\n      <td>c1</td>\n      <td>27</td>\n      <td>0</td>\n      <td>c6</td>\n      <td>0</td>\n    </tr>\n    <tr>\n      <th>2</th>\n      <td>c0</td>\n      <td>c0</td>\n      <td>c0</td>\n      <td>c6</td>\n      <td>29</td>\n      <td>1</td>\n      <td>c0</td>\n      <td>c2</td>\n      <td>c2</td>\n      <td>2</td>\n      <td>...</td>\n      <td>c0</td>\n      <td>65.0251</td>\n      <td>-36.96</td>\n      <td>-1.8</td>\n      <td>0.8004</td>\n      <td>c0</td>\n      <td>401</td>\n      <td>1</td>\n      <td>c4</td>\n      <td>0</td>\n    </tr>\n    <tr>\n      <th>3</th>\n      <td>c1</td>\n      <td>c0</td>\n      <td>c0</td>\n      <td>c2</td>\n      <td>25</td>\n      <td>2</td>\n      <td>c1</td>\n      <td>c3</td>\n      <td>c2</td>\n      <td>2</td>\n      <td>...</td>\n      <td>c1</td>\n      <td>65.7426</td>\n      <td>-34.16</td>\n      <td>1.4</td>\n      <td>2.9772</td>\n      <td>c1</td>\n      <td>212</td>\n      <td>0</td>\n      <td>c6</td>\n      <td>0</td>\n    </tr>\n    <tr>\n      <th>4</th>\n      <td>c6</td>\n      <td>c0</td>\n      <td>c0</td>\n      <td>c6</td>\n      <td>40</td>\n      <td>3</td>\n      <td>c0</td>\n      <td>c0</td>\n      <td>c2</td>\n      <td>2</td>\n      <td>...</td>\n      <td>c1</td>\n      <td>65.1525</td>\n      <td>-37.68</td>\n      <td>-1.8</td>\n      <td>0.8430</td>\n      <td>c1</td>\n      <td>379</td>\n      <td>0</td>\n      <td>c3</td>\n      <td>0</td>\n    </tr>\n    <tr>\n      <th>...</th>\n      <td>...</td>\n      <td>...</td>\n      <td>...</td>\n      <td>...</td>\n      <td>...</td>\n      <td>...</td>\n      <td>...</td>\n      <td>...</td>\n      <td>...</td>\n      <td>...</td>\n      <td>...</td>\n      <td>...</td>\n      <td>...</td>\n      <td>...</td>\n      <td>...</td>\n      <td>...</td>\n      <td>...</td>\n      <td>...</td>\n      <td>...</td>\n      <td>...</td>\n      <td>...</td>\n    </tr>\n    <tr>\n      <th>26355</th>\n      <td>c1</td>\n      <td>c1</td>\n      <td>c0</td>\n      <td>c0</td>\n      <td>28</td>\n      <td>1</td>\n      <td>c0</td>\n      <td>c4</td>\n      <td>c0</td>\n      <td>2</td>\n      <td>...</td>\n      <td>c0</td>\n      <td>65.7426</td>\n      <td>-34.16</td>\n      <td>1.4</td>\n      <td>2.9754</td>\n      <td>c1</td>\n      <td>327</td>\n      <td>0</td>\n      <td>c6</td>\n      <td>0</td>\n    </tr>\n    <tr>\n      <th>26356</th>\n      <td>c9</td>\n      <td>c1</td>\n      <td>c2</td>\n      <td>c2</td>\n      <td>31</td>\n      <td>9</td>\n      <td>c0</td>\n      <td>c0</td>\n      <td>c1</td>\n      <td>2</td>\n      <td>...</td>\n      <td>c1</td>\n      <td>65.7958</td>\n      <td>-29.12</td>\n      <td>1.1</td>\n      <td>2.9148</td>\n      <td>c1</td>\n      <td>179</td>\n      <td>0</td>\n      <td>c4</td>\n      <td>0</td>\n    </tr>\n    <tr>\n      <th>26357</th>\n      <td>c4</td>\n      <td>c1</td>\n      <td>c2</td>\n      <td>c3</td>\n      <td>33</td>\n      <td>1</td>\n      <td>c0</td>\n      <td>c2</td>\n      <td>c1</td>\n      <td>2</td>\n      <td>...</td>\n      <td>c1</td>\n      <td>65.7958</td>\n      <td>-29.12</td>\n      <td>1.1</td>\n      <td>2.9148</td>\n      <td>c1</td>\n      <td>641</td>\n      <td>0</td>\n      <td>c4</td>\n      <td>0</td>\n    </tr>\n    <tr>\n      <th>26358</th>\n      <td>c9</td>\n      <td>c0</td>\n      <td>c0</td>\n      <td>c7</td>\n      <td>53</td>\n      <td>6</td>\n      <td>c0</td>\n      <td>c0</td>\n      <td>c0</td>\n      <td>2</td>\n      <td>...</td>\n      <td>c1</td>\n      <td>65.0251</td>\n      <td>-36.96</td>\n      <td>-1.8</td>\n      <td>0.7464</td>\n      <td>c1</td>\n      <td>35</td>\n      <td>0</td>\n      <td>c4</td>\n      <td>0</td>\n    </tr>\n    <tr>\n      <th>26359</th>\n      <td>c7</td>\n      <td>c1</td>\n      <td>c0</td>\n      <td>c3</td>\n      <td>30</td>\n      <td>2</td>\n      <td>c0</td>\n      <td>c2</td>\n      <td>c2</td>\n      <td>2</td>\n      <td>...</td>\n      <td>c1</td>\n      <td>65.7958</td>\n      <td>-29.12</td>\n      <td>1.1</td>\n      <td>2.9148</td>\n      <td>c1</td>\n      <td>190</td>\n      <td>0</td>\n      <td>c4</td>\n      <td>0</td>\n    </tr>\n  </tbody>\n</table>\n<p>26360 rows × 21 columns</p>\n</div>"
     },
     "metadata": {},
     "output_type": "execute_result",
     "execution_count": 8
    }
   ],
   "source": [
    "f10(train)"
   ],
   "metadata": {
    "collapsed": false,
    "pycharm": {
     "name": "#%%\n",
     "is_executing": false
    }
   }
  },
  {
   "cell_type": "code",
   "execution_count": 9,
   "outputs": [],
   "source": [
    "train = encoder(train)"
   ],
   "metadata": {
    "collapsed": false,
    "pycharm": {
     "name": "#%%\n",
     "is_executing": false
    }
   }
  },
  {
   "cell_type": "code",
   "execution_count": 10,
   "outputs": [
    {
     "name": "stderr",
     "text": [
      "/Users/unajun/.virtualenvs/CSED490_Project/lib/python3.7/site-packages/pandas/core/ops/array_ops.py:253: FutureWarning: elementwise comparison failed; returning scalar instead, but in the future will perform elementwise comparison\n",
      "  res_values = method(rvalues)\n"
     ],
     "output_type": "stream"
    }
   ],
   "source": [
    "train = remove_unknown(train)"
   ],
   "metadata": {
    "collapsed": false,
    "pycharm": {
     "name": "#%%\n",
     "is_executing": false
    }
   }
  },
  {
   "cell_type": "code",
   "execution_count": 11,
   "outputs": [],
   "source": [
    "train = train.apply(pd.to_numeric)\n",
    "# train[(np.abs(stats.zscore(train)) < 3).all(axis=1)]"
   ],
   "metadata": {
    "collapsed": false,
    "pycharm": {
     "name": "#%%\n",
     "is_executing": false
    }
   }
  },
  {
   "cell_type": "code",
   "execution_count": 12,
   "outputs": [
    {
     "data": {
      "text/plain": "f1     0\nf2     0\nf3     0\nf4     0\nf5     0\nf6     0\nf7     0\nf8     0\nf9     0\nf10    0\nf11    0\nf12    0\nf13    0\nf14    0\nf15    0\nf16    0\nf17    0\nf18    0\nf19    0\nf20    0\ny      0\ndtype: int64"
     },
     "metadata": {},
     "output_type": "execute_result",
     "execution_count": 12
    }
   ],
   "source": [
    "train.isnull().sum()"
   ],
   "metadata": {
    "collapsed": false,
    "pycharm": {
     "name": "#%%\n",
     "is_executing": false
    }
   }
  },
  {
   "cell_type": "code",
   "execution_count": 13,
   "outputs": [
    {
     "name": "stdout",
     "text": [
      "<class 'pandas.core.frame.DataFrame'>\n",
      "Int64Index: 26302 entries, 0 to 26359\n",
      "Data columns (total 21 columns):\n",
      " #   Column  Non-Null Count  Dtype  \n",
      "---  ------  --------------  -----  \n",
      " 0   f1      26302 non-null  int64  \n",
      " 1   f2      26302 non-null  int64  \n",
      " 2   f3      26302 non-null  int64  \n",
      " 3   f4      26302 non-null  int64  \n",
      " 4   f5      26302 non-null  int64  \n",
      " 5   f6      26302 non-null  int64  \n",
      " 6   f7      26302 non-null  int64  \n",
      " 7   f8      26302 non-null  int64  \n",
      " 8   f9      26302 non-null  int64  \n",
      " 9   f10     26302 non-null  int64  \n",
      " 10  f11     26302 non-null  float64\n",
      " 11  f12     26302 non-null  int64  \n",
      " 12  f13     26302 non-null  float64\n",
      " 13  f14     26302 non-null  float64\n",
      " 14  f15     26302 non-null  float64\n",
      " 15  f16     26302 non-null  float64\n",
      " 16  f17     26302 non-null  int64  \n",
      " 17  f18     26302 non-null  int64  \n",
      " 18  f19     26302 non-null  int64  \n",
      " 19  f20     26302 non-null  int64  \n",
      " 20  y       26302 non-null  int64  \n",
      "dtypes: float64(5), int64(16)\n",
      "memory usage: 4.4 MB\n"
     ],
     "output_type": "stream"
    }
   ],
   "source": [
    "train.info()"
   ],
   "metadata": {
    "collapsed": false,
    "pycharm": {
     "name": "#%%\n",
     "is_executing": false
    }
   }
  },
  {
   "cell_type": "code",
   "execution_count": 14,
   "outputs": [
    {
     "name": "stdout",
     "text": [
      "(26302, 21)\n",
      "(21222, 21)\n"
     ],
     "output_type": "stream"
    }
   ],
   "source": [
    "(_, quant) = catagorize(train)\n",
    "print(train.shape)\n",
    "from scipy import stats\n",
    "for x in quant:\n",
    "    train = train[np.abs(train[x]-train[x].mean()) <= (3*train[x].std())]\n",
    "print(train.shape)"
   ],
   "metadata": {
    "collapsed": false,
    "pycharm": {
     "name": "#%%\n",
     "is_executing": false
    }
   }
  },
  {
   "cell_type": "code",
   "execution_count": 15,
   "outputs": [
    {
     "data": {
      "text/plain": "       f1  f2  f3  f4  f5  f6  f7  f8  f9  f10  ...  f12      f13    f14  f15  \\\n0       3   0   0   7  53   1   0   3   2    2  ...    1  65.7426 -34.16  1.4   \n2       0   0   0   6  29   1   0   2   2    2  ...    0  65.0251 -36.96 -1.8   \n3       1   0   0   2  25   2   1   3   2    2  ...    1  65.7426 -34.16  1.4   \n4       8   0   0   6  40   3   0   0   2    2  ...    1  65.1525 -37.68 -1.8   \n5       9   1   2   2  28   1   0   4   2    2  ...    0  65.7958 -29.12  1.1   \n...    ..  ..  ..  ..  ..  ..  ..  ..  ..  ...  ...  ...      ...    ...  ...   \n26355   1   1   0   0  28   1   0   4   0    2  ...    0  65.7426 -34.16  1.4   \n26356  11   1   2   2  31   9   0   0   1    2  ...    1  65.7958 -29.12  1.1   \n26357   6   1   2   3  33   1   0   2   1    2  ...    1  65.7958 -29.12  1.1   \n26358  11   0   0   7  53   6   0   0   0    2  ...    1  65.0251 -36.96 -1.8   \n26359   9   1   0   3  30   2   0   2   2    2  ...    1  65.7958 -29.12  1.1   \n\n          f16  f17  f18  f19  f20  y  \n0      2.9772    1  343    0    6  0  \n2      0.8004    0  401    1    4  0  \n3      2.9772    1  212    0    6  0  \n4      0.8430    1  379    0    3  0  \n5      2.9130    1  646    0    4  0  \n...       ...  ...  ...  ...  ... ..  \n26355  2.9754    1  327    0    6  0  \n26356  2.9148    1  179    0    4  0  \n26357  2.9148    1  641    0    4  0  \n26358  0.7464    1   35    0    4  0  \n26359  2.9148    1  190    0    4  0  \n\n[21222 rows x 21 columns]",
      "text/html": "<div>\n<style scoped>\n    .dataframe tbody tr th:only-of-type {\n        vertical-align: middle;\n    }\n\n    .dataframe tbody tr th {\n        vertical-align: top;\n    }\n\n    .dataframe thead th {\n        text-align: right;\n    }\n</style>\n<table border=\"1\" class=\"dataframe\">\n  <thead>\n    <tr style=\"text-align: right;\">\n      <th></th>\n      <th>f1</th>\n      <th>f2</th>\n      <th>f3</th>\n      <th>f4</th>\n      <th>f5</th>\n      <th>f6</th>\n      <th>f7</th>\n      <th>f8</th>\n      <th>f9</th>\n      <th>f10</th>\n      <th>...</th>\n      <th>f12</th>\n      <th>f13</th>\n      <th>f14</th>\n      <th>f15</th>\n      <th>f16</th>\n      <th>f17</th>\n      <th>f18</th>\n      <th>f19</th>\n      <th>f20</th>\n      <th>y</th>\n    </tr>\n  </thead>\n  <tbody>\n    <tr>\n      <th>0</th>\n      <td>3</td>\n      <td>0</td>\n      <td>0</td>\n      <td>7</td>\n      <td>53</td>\n      <td>1</td>\n      <td>0</td>\n      <td>3</td>\n      <td>2</td>\n      <td>2</td>\n      <td>...</td>\n      <td>1</td>\n      <td>65.7426</td>\n      <td>-34.16</td>\n      <td>1.4</td>\n      <td>2.9772</td>\n      <td>1</td>\n      <td>343</td>\n      <td>0</td>\n      <td>6</td>\n      <td>0</td>\n    </tr>\n    <tr>\n      <th>2</th>\n      <td>0</td>\n      <td>0</td>\n      <td>0</td>\n      <td>6</td>\n      <td>29</td>\n      <td>1</td>\n      <td>0</td>\n      <td>2</td>\n      <td>2</td>\n      <td>2</td>\n      <td>...</td>\n      <td>0</td>\n      <td>65.0251</td>\n      <td>-36.96</td>\n      <td>-1.8</td>\n      <td>0.8004</td>\n      <td>0</td>\n      <td>401</td>\n      <td>1</td>\n      <td>4</td>\n      <td>0</td>\n    </tr>\n    <tr>\n      <th>3</th>\n      <td>1</td>\n      <td>0</td>\n      <td>0</td>\n      <td>2</td>\n      <td>25</td>\n      <td>2</td>\n      <td>1</td>\n      <td>3</td>\n      <td>2</td>\n      <td>2</td>\n      <td>...</td>\n      <td>1</td>\n      <td>65.7426</td>\n      <td>-34.16</td>\n      <td>1.4</td>\n      <td>2.9772</td>\n      <td>1</td>\n      <td>212</td>\n      <td>0</td>\n      <td>6</td>\n      <td>0</td>\n    </tr>\n    <tr>\n      <th>4</th>\n      <td>8</td>\n      <td>0</td>\n      <td>0</td>\n      <td>6</td>\n      <td>40</td>\n      <td>3</td>\n      <td>0</td>\n      <td>0</td>\n      <td>2</td>\n      <td>2</td>\n      <td>...</td>\n      <td>1</td>\n      <td>65.1525</td>\n      <td>-37.68</td>\n      <td>-1.8</td>\n      <td>0.8430</td>\n      <td>1</td>\n      <td>379</td>\n      <td>0</td>\n      <td>3</td>\n      <td>0</td>\n    </tr>\n    <tr>\n      <th>5</th>\n      <td>9</td>\n      <td>1</td>\n      <td>2</td>\n      <td>2</td>\n      <td>28</td>\n      <td>1</td>\n      <td>0</td>\n      <td>4</td>\n      <td>2</td>\n      <td>2</td>\n      <td>...</td>\n      <td>0</td>\n      <td>65.7958</td>\n      <td>-29.12</td>\n      <td>1.1</td>\n      <td>2.9130</td>\n      <td>1</td>\n      <td>646</td>\n      <td>0</td>\n      <td>4</td>\n      <td>0</td>\n    </tr>\n    <tr>\n      <th>...</th>\n      <td>...</td>\n      <td>...</td>\n      <td>...</td>\n      <td>...</td>\n      <td>...</td>\n      <td>...</td>\n      <td>...</td>\n      <td>...</td>\n      <td>...</td>\n      <td>...</td>\n      <td>...</td>\n      <td>...</td>\n      <td>...</td>\n      <td>...</td>\n      <td>...</td>\n      <td>...</td>\n      <td>...</td>\n      <td>...</td>\n      <td>...</td>\n      <td>...</td>\n      <td>...</td>\n    </tr>\n    <tr>\n      <th>26355</th>\n      <td>1</td>\n      <td>1</td>\n      <td>0</td>\n      <td>0</td>\n      <td>28</td>\n      <td>1</td>\n      <td>0</td>\n      <td>4</td>\n      <td>0</td>\n      <td>2</td>\n      <td>...</td>\n      <td>0</td>\n      <td>65.7426</td>\n      <td>-34.16</td>\n      <td>1.4</td>\n      <td>2.9754</td>\n      <td>1</td>\n      <td>327</td>\n      <td>0</td>\n      <td>6</td>\n      <td>0</td>\n    </tr>\n    <tr>\n      <th>26356</th>\n      <td>11</td>\n      <td>1</td>\n      <td>2</td>\n      <td>2</td>\n      <td>31</td>\n      <td>9</td>\n      <td>0</td>\n      <td>0</td>\n      <td>1</td>\n      <td>2</td>\n      <td>...</td>\n      <td>1</td>\n      <td>65.7958</td>\n      <td>-29.12</td>\n      <td>1.1</td>\n      <td>2.9148</td>\n      <td>1</td>\n      <td>179</td>\n      <td>0</td>\n      <td>4</td>\n      <td>0</td>\n    </tr>\n    <tr>\n      <th>26357</th>\n      <td>6</td>\n      <td>1</td>\n      <td>2</td>\n      <td>3</td>\n      <td>33</td>\n      <td>1</td>\n      <td>0</td>\n      <td>2</td>\n      <td>1</td>\n      <td>2</td>\n      <td>...</td>\n      <td>1</td>\n      <td>65.7958</td>\n      <td>-29.12</td>\n      <td>1.1</td>\n      <td>2.9148</td>\n      <td>1</td>\n      <td>641</td>\n      <td>0</td>\n      <td>4</td>\n      <td>0</td>\n    </tr>\n    <tr>\n      <th>26358</th>\n      <td>11</td>\n      <td>0</td>\n      <td>0</td>\n      <td>7</td>\n      <td>53</td>\n      <td>6</td>\n      <td>0</td>\n      <td>0</td>\n      <td>0</td>\n      <td>2</td>\n      <td>...</td>\n      <td>1</td>\n      <td>65.0251</td>\n      <td>-36.96</td>\n      <td>-1.8</td>\n      <td>0.7464</td>\n      <td>1</td>\n      <td>35</td>\n      <td>0</td>\n      <td>4</td>\n      <td>0</td>\n    </tr>\n    <tr>\n      <th>26359</th>\n      <td>9</td>\n      <td>1</td>\n      <td>0</td>\n      <td>3</td>\n      <td>30</td>\n      <td>2</td>\n      <td>0</td>\n      <td>2</td>\n      <td>2</td>\n      <td>2</td>\n      <td>...</td>\n      <td>1</td>\n      <td>65.7958</td>\n      <td>-29.12</td>\n      <td>1.1</td>\n      <td>2.9148</td>\n      <td>1</td>\n      <td>190</td>\n      <td>0</td>\n      <td>4</td>\n      <td>0</td>\n    </tr>\n  </tbody>\n</table>\n<p>21222 rows × 21 columns</p>\n</div>"
     },
     "metadata": {},
     "output_type": "execute_result",
     "execution_count": 15
    }
   ],
   "source": [
    "train.loc[train['y'] == 0]"
   ],
   "metadata": {
    "collapsed": false,
    "pycharm": {
     "name": "#%%\n",
     "is_executing": false
    }
   }
  },
  {
   "cell_type": "code",
   "execution_count": 16,
   "outputs": [],
   "source": [
    "y = train.y\n",
    "X = train.drop('y', axis =1)\n"
   ],
   "metadata": {
    "collapsed": false,
    "pycharm": {
     "name": "#%%\n",
     "is_executing": false
    }
   }
  },
  {
   "cell_type": "code",
   "execution_count": 16,
   "outputs": [],
   "source": [],
   "metadata": {
    "collapsed": false,
    "pycharm": {
     "name": "#%%\n",
     "is_executing": false
    }
   }
  },
  {
   "cell_type": "code",
   "execution_count": 17,
   "outputs": [
    {
     "name": "stderr",
     "text": [
      "/Users/unajun/.virtualenvs/CSED490_Project/lib/python3.7/site-packages/statsmodels/base/model.py:1362: RuntimeWarning: invalid value encountered in true_divide\n",
      "  return self.params / self.bse\n",
      "/Users/unajun/.virtualenvs/CSED490_Project/lib/python3.7/site-packages/scipy/stats/_distn_infrastructure.py:903: RuntimeWarning: invalid value encountered in greater\n",
      "  return (a < x) & (x < b)\n",
      "/Users/unajun/.virtualenvs/CSED490_Project/lib/python3.7/site-packages/scipy/stats/_distn_infrastructure.py:903: RuntimeWarning: invalid value encountered in less\n",
      "  return (a < x) & (x < b)\n",
      "/Users/unajun/.virtualenvs/CSED490_Project/lib/python3.7/site-packages/scipy/stats/_distn_infrastructure.py:1912: RuntimeWarning: invalid value encountered in less_equal\n",
      "  cond2 = cond0 & (x <= _a)\n"
     ],
     "output_type": "stream"
    },
    {
     "traceback": [
      "\u001b[0;31m---------------------------------------------------------------------------\u001b[0m",
      "\u001b[0;31mValueError\u001b[0m                                Traceback (most recent call last)",
      "\u001b[0;32m<ipython-input-17-20fb30c89a8e>\u001b[0m in \u001b[0;36m<module>\u001b[0;34m\u001b[0m\n\u001b[1;32m     12\u001b[0m     \u001b[0mX_1\u001b[0m \u001b[0;34m=\u001b[0m \u001b[0msm\u001b[0m\u001b[0;34m.\u001b[0m\u001b[0madd_constant\u001b[0m\u001b[0;34m(\u001b[0m\u001b[0mX_1\u001b[0m\u001b[0;34m)\u001b[0m\u001b[0;34m\u001b[0m\u001b[0;34m\u001b[0m\u001b[0m\n\u001b[1;32m     13\u001b[0m     \u001b[0mmodel\u001b[0m \u001b[0;34m=\u001b[0m \u001b[0msm\u001b[0m\u001b[0;34m.\u001b[0m\u001b[0mOLS\u001b[0m\u001b[0;34m(\u001b[0m\u001b[0my\u001b[0m\u001b[0;34m,\u001b[0m\u001b[0mX_1\u001b[0m\u001b[0;34m)\u001b[0m\u001b[0;34m.\u001b[0m\u001b[0mfit\u001b[0m\u001b[0;34m(\u001b[0m\u001b[0;34m)\u001b[0m\u001b[0;34m\u001b[0m\u001b[0;34m\u001b[0m\u001b[0m\n\u001b[0;32m---> 14\u001b[0;31m     \u001b[0mp\u001b[0m \u001b[0;34m=\u001b[0m \u001b[0mpd\u001b[0m\u001b[0;34m.\u001b[0m\u001b[0mSeries\u001b[0m\u001b[0;34m(\u001b[0m\u001b[0mmodel\u001b[0m\u001b[0;34m.\u001b[0m\u001b[0mpvalues\u001b[0m\u001b[0;34m.\u001b[0m\u001b[0mvalues\u001b[0m\u001b[0;34m[\u001b[0m\u001b[0;36m1\u001b[0m\u001b[0;34m:\u001b[0m\u001b[0;34m]\u001b[0m\u001b[0;34m,\u001b[0m\u001b[0mindex\u001b[0m \u001b[0;34m=\u001b[0m \u001b[0mcols\u001b[0m\u001b[0;34m)\u001b[0m\u001b[0;34m\u001b[0m\u001b[0;34m\u001b[0m\u001b[0m\n\u001b[0m\u001b[1;32m     15\u001b[0m     \u001b[0mpmax\u001b[0m \u001b[0;34m=\u001b[0m \u001b[0mmax\u001b[0m\u001b[0;34m(\u001b[0m\u001b[0mp\u001b[0m\u001b[0;34m)\u001b[0m\u001b[0;34m\u001b[0m\u001b[0;34m\u001b[0m\u001b[0m\n\u001b[1;32m     16\u001b[0m     \u001b[0mfeature_with_p_max\u001b[0m \u001b[0;34m=\u001b[0m \u001b[0mp\u001b[0m\u001b[0;34m.\u001b[0m\u001b[0midxmax\u001b[0m\u001b[0;34m(\u001b[0m\u001b[0;34m)\u001b[0m\u001b[0;34m\u001b[0m\u001b[0;34m\u001b[0m\u001b[0m\n",
      "\u001b[0;32m~/.virtualenvs/CSED490_Project/lib/python3.7/site-packages/pandas/core/series.py\u001b[0m in \u001b[0;36m__init__\u001b[0;34m(self, data, index, dtype, name, copy, fastpath)\u001b[0m\n\u001b[1;32m    290\u001b[0m                     \u001b[0;32mif\u001b[0m \u001b[0mlen\u001b[0m\u001b[0;34m(\u001b[0m\u001b[0mindex\u001b[0m\u001b[0;34m)\u001b[0m \u001b[0;34m!=\u001b[0m \u001b[0mlen\u001b[0m\u001b[0;34m(\u001b[0m\u001b[0mdata\u001b[0m\u001b[0;34m)\u001b[0m\u001b[0;34m:\u001b[0m\u001b[0;34m\u001b[0m\u001b[0;34m\u001b[0m\u001b[0m\n\u001b[1;32m    291\u001b[0m                         raise ValueError(\n\u001b[0;32m--> 292\u001b[0;31m                             \u001b[0;34mf\"Length of passed values is {len(data)}, \"\u001b[0m\u001b[0;34m\u001b[0m\u001b[0;34m\u001b[0m\u001b[0m\n\u001b[0m\u001b[1;32m    293\u001b[0m                             \u001b[0;34mf\"index implies {len(index)}.\"\u001b[0m\u001b[0;34m\u001b[0m\u001b[0;34m\u001b[0m\u001b[0m\n\u001b[1;32m    294\u001b[0m                         )\n",
      "\u001b[0;31mValueError\u001b[0m: Length of passed values is 19, index implies 20."
     ],
     "ename": "ValueError",
     "evalue": "Length of passed values is 19, index implies 20.",
     "output_type": "error"
    }
   ],
   "source": [
    "import statsmodels.api as sm\n",
    "X_1 = sm.add_constant(X)\n",
    "#Fitting sm.OLS model\n",
    "model = sm.OLS(y,X_1).fit()\n",
    "model.pvalues\n",
    "\n",
    "cols = list(X.columns)\n",
    "pmax = 1\n",
    "while (len(cols)>0):\n",
    "    p= []\n",
    "    X_1 = X[cols]\n",
    "    X_1 = sm.add_constant(X_1)\n",
    "    model = sm.OLS(y,X_1).fit()\n",
    "    p = pd.Series(model.pvalues.values[1:],index = cols)      \n",
    "    pmax = max(p)\n",
    "    feature_with_p_max = p.idxmax()\n",
    "    if(pmax>0.05):\n",
    "        cols.remove(feature_with_p_max)\n",
    "    else:\n",
    "        break\n",
    "selected_features_BE = cols\n",
    "print(selected_features_BE)"
   ],
   "metadata": {
    "collapsed": false,
    "pycharm": {
     "name": "#%%\n",
     "is_executing": false
    }
   }
  },
  {
   "cell_type": "code",
   "execution_count": null,
   "outputs": [],
   "source": [
    "from sklearn.linear_model import RidgeCV, LassoCV, Ridge, Lasso\n",
    "reg = LassoCV()\n",
    "y = train.y\n",
    "X = train.drop('y', axis =1)\n",
    "reg.fit(X, y)\n",
    "print(\"Best alpha using built-in LassoCV: %f\" % reg.alpha_)\n",
    "print(\"Best score using built-in LassoCV: %f\" %reg.score(X,y))\n",
    "coef = pd.Series(reg.coef_, index = X.columns)\n",
    "\n",
    "print(\"Lasso picked \" + str(sum(coef != 0)) + \" variables and eliminated the other \" +  str(sum(coef == 0)) + \" variables\")\n",
    "\n",
    "imp_coef = coef.sort_values()\n",
    "import matplotlib\n",
    "matplotlib.rcParams['figure.figsize'] = (8.0, 10.0)\n",
    "imp_coef.plot(kind = \"barh\")\n",
    "plt.title(\"Feature importance using Lasso Model\")\n"
   ],
   "metadata": {
    "collapsed": false,
    "pycharm": {
     "name": "#%%\n",
     "is_executing": false
    }
   }
  },
  {
   "cell_type": "code",
   "execution_count": null,
   "outputs": [],
   "source": [
    "y = train['y'].values\n",
    "X = train.drop('y', axis=1)\n",
    "from sklearn.ensemble import ExtraTreesClassifier\n",
    "import matplotlib.pyplot as plt\n",
    "model = ExtraTreesClassifier()\n",
    "model.fit(X,y)\n",
    "print(model.feature_importances_) #use inbuilt class feature_importances of tree based classifiers\n",
    "#plot graph of feature importances for better visualization\n",
    "feat_importances = pd.Series(model.feature_importances_, index=X.columns)\n",
    "feat_importances.nlargest(13).plot(kind='barh')\n",
    "plt.show()\n",
    "# feat_importances.get_figure.savefig(\"feature.png\")"
   ],
   "metadata": {
    "collapsed": false,
    "pycharm": {
     "name": "#%%\n",
     "is_executing": false
    }
   }
  },
  {
   "cell_type": "code",
   "execution_count": null,
   "outputs": [],
   "source": [
    "from sklearn.linear_model import LogisticRegression\n",
    "from sklearn.discriminant_analysis import LinearDiscriminantAnalysis\n",
    "from sklearn.tree import DecisionTreeClassifier\n",
    "from sklearn.naive_bayes import GaussianNB\n",
    "from sklearn.neighbors import KNeighborsClassifier\n",
    "from sklearn.svm import SVC\n",
    "from sklearn.ensemble import RandomForestClassifier\n",
    "from sklearn.ensemble import AdaBoostClassifier\n",
    "from sklearn import model_selection\n",
    "\n",
    "models = []\n",
    "models.append(('LR', LogisticRegression()))\n",
    "models.append(('KNN', KNeighborsClassifier()))\n",
    "models.append(('Decison-Tree', DecisionTreeClassifier()))\n",
    "models.append(('SVM', SVC()))"
   ],
   "metadata": {
    "collapsed": false,
    "pycharm": {
     "name": "#%%\n",
     "is_executing": false
    }
   }
  },
  {
   "cell_type": "code",
   "execution_count": null,
   "outputs": [],
   "source": [
    "backward_elmin = ['f2', 'f3','f10', 'f11', 'f13', 'f15', 'f16', 'f17', 'f18', 'f19']\n",
    "decision_tree = [18, 16, 5, 6, 1, 4, 11, 8, 10, 9, 12 , 17, 15]\n",
    "lasso = ['f14', 'f20',  'f18', 'f11']\n",
    "input_col = [\"f\"+str(i) for i in decision_tree]\n",
    "\n",
    "y = train['y'].values\n",
    "X = train[input_col]\n",
    "\n",
    "scaler = StandardScaler()\n",
    "scaler.fit(X)\n",
    "X_train = scaler.fit_transform(X)\n",
    "pca = PCA(n_components=len(input_col))\n",
    "pca.fit(X_train)\n",
    "X_train = pca.fit_transform(X_train)\n",
    "cnt = 1\n",
    "results = []\n",
    "names = []\n",
    "for name, model in models:\n",
    "    kfold = model_selection.KFold(n_splits=len(input_col))\n",
    "    cv_results = model_selection.cross_val_score(model, X_train, y, cv=kfold, scoring='accuracy')\n",
    "    results.append(cv_results)\n",
    "    names.append(name)\n",
    "    msg = \"{}/{}\\t{}: {}\".format(cnt, len(models), name, cv_results.mean())\n",
    "    cnt+=1;\n",
    "    print(msg)\n"
   ],
   "metadata": {
    "collapsed": false,
    "pycharm": {
     "name": "#%%\n",
     "is_executing": false
    }
   }
  },
  {
   "cell_type": "code",
   "execution_count": null,
   "outputs": [],
   "source": [
    "\n",
    "val_x = pd.read_csv('data/classificaition_val_x.csv')\n",
    "val_y = pd.read_csv('data/classificaition_val_y.csv')\n",
    "\n",
    "f10(val_x)\n",
    "val_x = encoder(val_x)\n",
    "val_x = val_x.apply(pd.to_numeric)\n",
    "val_x[(np.abs(stats.zscore(val_x)) < 3).all(axis=1)]\n",
    "\n",
    "scaler.fit(val_x)\n",
    "val_x = scaler.fit_transform(val_x)\n",
    "pca.fit(val_x)\n",
    "val_x = pca.fit_transform(val_x)\n",
    "svc = SVC()\n",
    "svc.fit(X_train, y)\n",
    "predictions = svc.predict(val_x)\n",
    "print(\"Accuracy : \", accuracy_score(val_y, predictions))\n",
    "print(\"Confusion Matrix : \\n\",confusion_matrix(val_y, predictions))\n",
    "print(\"Classification Report: \\n\",classification_report(val_y, predictions))"
   ],
   "metadata": {
    "collapsed": false,
    "pycharm": {
     "name": "#%%\n",
     "is_executing": false
    }
   }
  },
  {
   "cell_type": "code",
   "execution_count": null,
   "outputs": [],
   "source": [
    "def underSampling (data_df):\n",
    "\n",
    "    print (\"Inside Undersampling\")\n",
    "    # Lets shuffle the data before creating the subsamples\n",
    "    data_df.sample(frac=1)\n",
    "    # count the number of records having personal loan as 1 from the dataframe \n",
    "    count = data_df[data_df[\"y\"] == 1][\"y\"].count()\n",
    "    # match and select same number of records for both the targets.\n",
    "    outcome_True_df     = data_df.loc[data_df['y'] == 1]\n",
    "    outcome_False_df    = data_df.loc[data_df['y'] == 0][:count]\n",
    "    #merge the classes with equal number of records\n",
    "    normal_distributed_df = pd.concat([outcome_True_df, outcome_False_df])\n",
    "    # Shuffle dataframe rows\n",
    "    balanced_df = normal_distributed_df.sample(frac=1, random_state=42)\n",
    "    return balanced_df\n",
    "\n",
    "def cal_accuracy(y_test, y_pred): \n",
    "      \n",
    "    print(\"Confusion Matrix: \", \n",
    "        metrics.confusion_matrix(y_test, y_pred)) \n",
    "      \n",
    "    print (\"Accuracy : \", \n",
    "    metrics.accuracy_score(y_test,y_pred)*100) \n",
    "    \n",
    "    print(\"Recall: {:.2f}\".format(metrics.recall_score(y_test, y_pred)))\n",
    "    print(\"Precision: {:.2f}\".format(metrics.precision_score(y_test, y_pred)))\n",
    "      \n",
    "    print(\"Report : \", \n",
    "    metrics.classification_report(y_test, y_pred))\n",
    "    \n",
    "    \n",
    "def splitdataset(data_df, label, t_size):\n",
    "         # Seperating the target variable\n",
    "    data_df.head()\n",
    "    Y = data_df[label]\n",
    "    data_df.drop(label,axis=1,inplace=True)\n",
    "    X = data_df\n",
    "    #print (\"inside split data set\", Y.unique())  \n",
    "    # Spliting the dataset into train and test \n",
    "    X_train, X_test, y_train, y_test = train_test_split(X, Y, test_size = t_size, random_state = 100) \n",
    "    #print (\"inside split data set###\")    \n",
    "    return X, Y, X_train, X_test, y_train, y_test\n",
    "\n",
    "train_x = pd.read_csv('data/classificaition_train_x.csv')\n",
    "train_y = pd.read_csv('data/classificaition_train_y.csv')\n",
    "val_x = pd.read_csv('data/classificaition_val_x.csv')\n",
    "val_y = pd.read_csv('data/classificaition_val_y.csv')\n",
    "\n",
    "new_df = bank_df[input_col].copy()\n",
    "label = \"Target\"\n",
    "# undersample the train data\n",
    "new_df = underSampling(new_df)\n",
    "t_size = 0.3 #Set the split ratio to 70:30\n",
    "# split the data set\n",
    "X, Y, X_train, X_test, y_train, y_test = splitdataset(new_df,label,t_size)\n",
    "\n",
    "# Try with polynomial features (1)\n",
    "poly_features_1 = PolynomialFeatures(degree=1)\n",
    "\n",
    "\n",
    "X_train_poly1 = poly_features_1.fit_transform(X_train)\n",
    "\n",
    "logisticRegr = LogisticRegression()\n",
    "logisticRegr.fit(X_train_poly1, y_train)\n",
    "y_test_pred = logisticRegr.predict(poly_features_1.fit_transform(X_test))\n",
    "cal_accuracy(y_test, y_test_pred)\n"
   ],
   "metadata": {
    "collapsed": false,
    "pycharm": {
     "name": "#%%\n",
     "is_executing": false
    }
   }
  }
 ],
 "metadata": {
  "kernelspec": {
   "display_name": "Python 3",
   "language": "python",
   "name": "python3"
  },
  "language_info": {
   "codemirror_mode": {
    "name": "ipython",
    "version": 2
   },
   "file_extension": ".py",
   "mimetype": "text/x-python",
   "name": "python",
   "nbconvert_exporter": "python",
   "pygments_lexer": "ipython2",
   "version": "2.7.6"
  },
  "pycharm": {
   "stem_cell": {
    "cell_type": "raw",
    "source": [],
    "metadata": {
     "collapsed": false
    }
   }
  }
 },
 "nbformat": 4,
 "nbformat_minor": 0
}