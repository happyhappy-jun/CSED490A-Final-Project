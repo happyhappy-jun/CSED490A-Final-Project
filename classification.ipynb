{
 "cells": [
  {
   "cell_type": "code",
   "execution_count": 201,
   "metadata": {
    "collapsed": true,
    "pycharm": {
     "is_executing": false
    }
   },
   "outputs": [],
   "source": [
    "import pandas as pd\n",
    "import numpy as np\n",
    "from sklearn import preprocessing\n",
    "from sklearn.metrics import classification_report\n",
    "from sklearn.metrics import confusion_matrix\n",
    "from sklearn.metrics import accuracy_score"
   ]
  },
  {
   "cell_type": "code",
   "execution_count": 176,
   "outputs": [],
   "source": [
    "from sklearn.decomposition import PCA\n",
    "from sklearn.preprocessing import StandardScaler"
   ],
   "metadata": {
    "collapsed": false,
    "pycharm": {
     "name": "#%%\n",
     "is_executing": false
    }
   }
  },
  {
   "cell_type": "code",
   "execution_count": null,
   "outputs": [],
   "source": [
    "train_x = pd.read_csv('data/classificaition_train_x.csv')\n",
    "train_y = pd.read_csv('data/classificaition_train_y.csv')\n",
    "val_x = pd.read_csv('data/classificaition_val_x.csv')\n",
    "val_y = pd.read_csv('data/classificaition_val_y.csv')"
   ],
   "metadata": {
    "collapsed": false,
    "pycharm": {
     "name": "#%%\n",
     "is_executing": false
    }
   }
  },
  {
   "cell_type": "code",
   "execution_count": null,
   "outputs": [],
   "source": [
    "train_x = train_x.drop(columns=['f1', 'f2', 'f3', 'f4', 'f7', 'f8', 'f9', 'f12', 'f17', 'f20'])\n",
    "val_x = val_x.drop(columns=['f1', 'f2', 'f3', 'f4', 'f7', 'f8', 'f9', 'f12', 'f17', 'f20'])"
   ],
   "metadata": {
    "collapsed": false,
    "pycharm": {
     "name": "#%%\n",
     "is_executing": false
    }
   }
  },
  {
   "cell_type": "code",
   "execution_count": null,
   "outputs": [],
   "source": [
    "from sklearn import tree\n",
    "clf = tree.DecisionTreeClassifier()\n",
    "clf = clf.fit(train_x, train_y)\n",
    "\n",
    "val_y_prob = clf.predict_proba(val_x)\n",
    "\n",
    "from sklearn.metrics import log_loss, accuracy_score, confusion_matrix, classification_report\n",
    "print(log_loss(val_y, val_y_prob))"
   ],
   "metadata": {
    "collapsed": false,
    "pycharm": {
     "name": "#%%\n",
     "is_executing": false
    }
   }
  },
  {
   "cell_type": "code",
   "execution_count": null,
   "outputs": [],
   "source": [
    "train_x = pd.read_csv('data/classificaition_train_x.csv')\n",
    "train_y = pd.read_csv('data/classificaition_train_y.csv')\n",
    "val_x = pd.read_csv('data/classificaition_val_x.csv')\n",
    "val_y = pd.read_csv('data/classificaition_val_y.csv')"
   ],
   "metadata": {
    "collapsed": false,
    "pycharm": {
     "name": "#%%\n",
     "is_executing": false
    }
   }
  },
  {
   "cell_type": "code",
   "execution_count": null,
   "outputs": [],
   "source": [
    "from sklearn import tree\n",
    "dropped_train_x = train_x.drop(columns=['f1', 'f2', 'f3', 'f4', 'f7', 'f8', 'f9', 'f12', 'f17', 'f20'])\n",
    "dropped_val_x = val_x.drop(columns=['f1', 'f2', 'f3', 'f4', 'f7', 'f8', 'f9', 'f12', 'f17', 'f20'])\n",
    "clf = tree.DecisionTreeRegressor()\n",
    "clf = clf.fit(dropped_train_x, train_y)\n",
    "\n",
    "val_y_prob = clf.predict(dropped_val_x)\n",
    "\n",
    "from sklearn.metrics import log_loss\n",
    "print(log_loss(val_y, val_y_prob))"
   ],
   "metadata": {
    "collapsed": false,
    "pycharm": {
     "name": "#%%\n",
     "is_executing": false
    }
   }
  },
  {
   "cell_type": "code",
   "execution_count": null,
   "outputs": [],
   "source": [
    "def normalize_Data(data, name):\n",
    "    catags = ['f1', 'f2', 'f3', 'f4', 'f7', 'f8', 'f9', 'f12', 'f17', 'f20']\n",
    "    cols = list(data.columns)\n",
    "    quant = [i for i in cols if i not in catags]\n",
    "    dummies = []\n",
    "    for colName in catags:\n",
    "        dummies.append(pd.get_dummies(data[colName], prefix=colName))\n",
    "    df_numerical = data[quant]\n",
    "    df_names = df_numerical.keys().tolist()\n",
    "    x_scaled =  preprocessing.MinMaxScaler().fit_transform(df_numerical)\n",
    "    df_temp = pd.DataFrame(x_scaled)\n",
    "    df_temp.columns = df_names\n",
    "    result = [df_temp]\n",
    "    for i in dummies:\n",
    "        result.append(i)\n",
    "    norm_df = pd.concat([df_temp,dummies[0],\n",
    "                        dummies[1],\n",
    "                         dummies[2],\n",
    "                         dummies[3],\n",
    "                         dummies[4],\n",
    "                         dummies[5],\n",
    "                         dummies[6],\n",
    "                         dummies[7],\n",
    "                         dummies[8],\n",
    "                         dummies[9]], axis=1)\n",
    "    norm_df.to_csv(\"data/normed_data_({}).csv\".format(name), index = False)\n",
    "    return norm_df"
   ],
   "metadata": {
    "collapsed": false,
    "pycharm": {
     "name": "#%%\n",
     "is_executing": false
    }
   }
  },
  {
   "cell_type": "code",
   "execution_count": null,
   "outputs": [],
   "source": [
    "normed_train_x = normalize_Data(train_x, \"train_x\")\n",
    "normed_val_x = normalize_Data(val_x, \"val_x\")"
   ],
   "metadata": {
    "collapsed": false,
    "pycharm": {
     "name": "#%%\n",
     "is_executing": false
    }
   }
  },
  {
   "cell_type": "code",
   "execution_count": null,
   "outputs": [],
   "source": [
    "def check_missing(l1, l2):\n",
    "    missing = list(set(l1.keys())-set(l2.keys()))\n",
    "    for col in missing:\n",
    "        l2.insert(l1.columns.get_loc(col), col, 0)"
   ],
   "metadata": {
    "collapsed": false,
    "pycharm": {
     "name": "#%%\n",
     "is_executing": false
    }
   }
  },
  {
   "cell_type": "code",
   "execution_count": null,
   "outputs": [],
   "source": [
    "from sklearn import tree\n",
    "clf = tree.DecisionTreeClassifier()\n",
    "clf = clf.fit(normed_train_x, train_y)\n",
    "check_missing(normed_val_x, normed_train_x)\n",
    "check_missing(normed_train_x, normed_val_x)\n",
    "val_y_prob = clf.predict_proba(normed_val_x)\n",
    "\n",
    "from sklearn.metrics import log_loss\n",
    "print(log_loss(val_y, val_y_prob))"
   ],
   "metadata": {
    "collapsed": false,
    "pycharm": {
     "name": "#%%\n",
     "is_executing": false
    }
   }
  },
  {
   "cell_type": "code",
   "execution_count": null,
   "outputs": [],
   "source": [
    "from sklearn import tree\n",
    "clf = tree.DecisionTreeRegressor()\n",
    "clf = clf.fit(normed_train_x, train_y)\n",
    "\n",
    "check_missing(normed_val_x, normed_train_x)\n",
    "check_missing(normed_train_x, normed_val_x)\n",
    "\n",
    "val_y_prob = clf.predict(normed_val_x)\n",
    "\n",
    "from sklearn.metrics import log_loss\n",
    "print(log_loss(val_y, val_y_prob))"
   ],
   "metadata": {
    "collapsed": false,
    "pycharm": {
     "name": "#%%\n",
     "is_executing": false
    }
   }
  },
  {
   "cell_type": "code",
   "execution_count": null,
   "outputs": [],
   "source": [
    "train_x = pd.read_csv('data/classificaition_train_x.csv')\n",
    "train_y = pd.read_csv('data/classificaition_train_y.csv')\n",
    "val_x = pd.read_csv('data/classificaition_val_x.csv')\n",
    "val_y = pd.read_csv('data/classificaition_val_y.csv')"
   ],
   "metadata": {
    "collapsed": false,
    "pycharm": {
     "name": "#%%\n",
     "is_executing": false
    }
   }
  },
  {
   "cell_type": "code",
   "execution_count": null,
   "outputs": [],
   "source": [
    "train_data = pd.concat([train_x, train_y], axis=1)\n",
    "train_data['y']"
   ],
   "metadata": {
    "collapsed": false,
    "pycharm": {
     "name": "#%%\n",
     "is_executing": false
    }
   }
  },
  {
   "cell_type": "code",
   "execution_count": null,
   "outputs": [],
   "source": [
    "from matplotlib.pyplot import boxplot\n",
    "train_data.boxplot(column = 'f5', by = 'y')\n",
    "#age"
   ],
   "metadata": {
    "collapsed": false,
    "pycharm": {
     "name": "#%%\n",
     "is_executing": false
    }
   }
  },
  {
   "cell_type": "code",
   "execution_count": null,
   "outputs": [],
   "source": [
    "#job\n",
    "train_data.groupby('f1').y.mean()"
   ],
   "metadata": {
    "collapsed": false,
    "pycharm": {
     "name": "#%%\n",
     "is_executing": false
    }
   }
  },
  {
   "cell_type": "code",
   "execution_count": null,
   "outputs": [],
   "source": [
    "#default\n",
    "train_data.groupby('f2').y.mean()"
   ],
   "metadata": {
    "collapsed": false,
    "pycharm": {
     "name": "#%%\n",
     "is_executing": false
    }
   }
  },
  {
   "cell_type": "code",
   "execution_count": null,
   "outputs": [],
   "source": [
    "train_data.f2.value_counts()"
   ],
   "metadata": {
    "collapsed": false,
    "pycharm": {
     "name": "#%%\n",
     "is_executing": false
    }
   }
  },
  {
   "cell_type": "code",
   "execution_count": null,
   "outputs": [],
   "source": [
    "train_data.groupby('f3').y.mean()"
   ],
   "metadata": {
    "collapsed": false,
    "pycharm": {
     "name": "#%%\n",
     "is_executing": false
    }
   }
  },
  {
   "cell_type": "code",
   "execution_count": null,
   "outputs": [],
   "source": [
    "print(train_data.f3.value_counts())\n",
    "train_data['f3'] = train_data.f3.map({'c0':0, 'c2':1, 'c3':1})"
   ],
   "metadata": {
    "collapsed": false,
    "pycharm": {
     "name": "#%%\n",
     "is_executing": false
    }
   }
  },
  {
   "cell_type": "code",
   "execution_count": null,
   "outputs": [],
   "source": [
    "train_data.groupby('f7').y.mean()"
   ],
   "metadata": {
    "collapsed": false,
    "pycharm": {
     "name": "#%%\n",
     "is_executing": false
    }
   }
  },
  {
   "cell_type": "code",
   "execution_count": null,
   "outputs": [],
   "source": [
    "train_data.groupby('f8').y.mean()"
   ],
   "metadata": {
    "collapsed": false,
    "pycharm": {
     "name": "#%%\n",
     "is_executing": false
    }
   }
  },
  {
   "cell_type": "code",
   "execution_count": null,
   "outputs": [],
   "source": [
    "train_data.groupby('f9').y.mean()"
   ],
   "metadata": {
    "collapsed": false,
    "pycharm": {
     "name": "#%%\n",
     "is_executing": false
    }
   }
  },
  {
   "cell_type": "code",
   "execution_count": null,
   "outputs": [],
   "source": [
    "train_data.groupby('f12').y.mean()"
   ],
   "metadata": {
    "collapsed": false,
    "pycharm": {
     "name": "#%%\n",
     "is_executing": false
    }
   }
  },
  {
   "cell_type": "code",
   "execution_count": null,
   "outputs": [],
   "source": [
    "train_data.groupby('f17').y.mean()"
   ],
   "metadata": {
    "collapsed": false,
    "pycharm": {
     "name": "#%%\n",
     "is_executing": false
    }
   }
  },
  {
   "cell_type": "code",
   "execution_count": null,
   "outputs": [],
   "source": [
    "useful = ['f12', 'f13', 'f16']\n",
    "#euribor3m f16\n",
    "train_data.boxplot(column = 'f16', by='y')"
   ],
   "metadata": {
    "collapsed": false,
    "pycharm": {
     "name": "#%%\n",
     "is_executing": false
    }
   }
  },
  {
   "cell_type": "code",
   "execution_count": null,
   "outputs": [],
   "source": [
    "train_x = pd.read_csv('data/classificaition_train_x.csv')\n",
    "train_y = pd.read_csv('data/classificaition_train_y.csv')\n",
    "val_x = pd.read_csv('data/classificaition_val_x.csv')\n",
    "val_y = pd.read_csv('data/classificaition_val_y.csv')"
   ],
   "metadata": {
    "collapsed": false,
    "pycharm": {
     "name": "#%%\n",
     "is_executing": false
    }
   }
  },
  {
   "cell_type": "code",
   "execution_count": null,
   "outputs": [],
   "source": [
    "catags = ['f1', 'f2', 'f3', 'f4', 'f7', 'f8', 'f9', 'f12', 'f17', 'f20', 'y']\n",
    "cols = list(train_x.columns)\n",
    "quant = [i for i in cols if i not in catags]\n"
   ],
   "metadata": {
    "collapsed": false,
    "pycharm": {
     "name": "#%%\n",
     "is_executing": false
    }
   }
  },
  {
   "cell_type": "code",
   "execution_count": null,
   "outputs": [],
   "source": [
    "train = pd.concat([train_x, train_y], axis=1)\n",
    "def encoder(df):\n",
    "    temp = df.copy()\n",
    "    enc = preprocessing.LabelEncoder()\n",
    "    \n",
    "    for col in catags:\n",
    "        temp[col] = enc.fit_transform(temp[col])\n",
    "    return temp;"
   ],
   "metadata": {
    "collapsed": false,
    "pycharm": {
     "name": "#%%\n",
     "is_executing": false
    }
   }
  },
  {
   "cell_type": "code",
   "execution_count": 216,
   "outputs": [
    {
     "name": "stderr",
     "text": [
      "/Users/unajun/.virtualenvs/CSED490_Project/lib/python3.7/site-packages/pandas/core/ops/array_ops.py:253: FutureWarning: elementwise comparison failed; returning scalar instead, but in the future will perform elementwise comparison\n",
      "  res_values = method(rvalues)\n"
     ],
     "output_type": "stream"
    },
    {
     "data": {
      "text/plain": "<Figure size 432x288 with 1 Axes>",
      "image/png": "[encoded data removed]"
     },
     "metadata": {},
     "output_type": "display_data"
    }
   ],
   "source": [
    "import seaborn as sns\n",
    "sns.set(style=\"ticks\", color_codes=True)\n",
    "sns.countplot(y='f1', data=train)\n",
    "train = train[train.f1 != 'c11']"
   ],
   "metadata": {
    "collapsed": false,
    "pycharm": {
     "name": "#%%\n",
     "is_executing": false
    }
   }
  },
  {
   "cell_type": "code",
   "execution_count": 217,
   "outputs": [
    {
     "name": "stdout",
     "text": [
      "0    18271\n",
      "2     5064\n",
      "1        3\n",
      "Name: f3, dtype: int64\n"
     ],
     "output_type": "stream"
    },
    {
     "data": {
      "text/plain": "<Figure size 432x288 with 1 Axes>",
      "image/png": "[encoded data removed]"
     },
     "metadata": {},
     "output_type": "display_data"
    }
   ],
   "source": [
    "sns.countplot(y='f3', data=train)\n",
    "print(train.f3.value_counts())\n",
    "train = train[train.f3 != 'c1']"
   ],
   "metadata": {
    "collapsed": false,
    "pycharm": {
     "name": "#%%\n",
     "is_executing": false
    }
   }
  },
  {
   "cell_type": "code",
   "execution_count": 218,
   "outputs": [
    {
     "name": "stdout",
     "text": [
      "6    6744\n",
      "3    5492\n",
      "2    3483\n",
      "5    3021\n",
      "0    2261\n",
      "1    1366\n",
      "7     961\n",
      "4      10\n",
      "Name: f4, dtype: int64\n"
     ],
     "output_type": "stream"
    },
    {
     "data": {
      "text/plain": "<Figure size 432x288 with 1 Axes>",
      "image/png": "[encoded data removed]"
     },
     "metadata": {},
     "output_type": "display_data"
    }
   ],
   "source": [
    "sns.countplot(y='f4', data=train)\n",
    "print(train.f4.value_counts())\n",
    "train = train[train.f3 != 'c4']"
   ],
   "metadata": {
    "collapsed": false,
    "pycharm": {
     "name": "#%%\n",
     "is_executing": false
    }
   }
  },
  {
   "cell_type": "code",
   "execution_count": 221,
   "outputs": [
    {
     "name": "stdout",
     "text": [
      "1    14198\n",
      "2     6478\n",
      "0     2614\n",
      "3       48\n",
      "Name: f9, dtype: int64\n"
     ],
     "output_type": "stream"
    },
    {
     "name": "stderr",
     "text": [
      "/Users/unajun/.virtualenvs/CSED490_Project/lib/python3.7/site-packages/pandas/core/ops/array_ops.py:253: FutureWarning: elementwise comparison failed; returning scalar instead, but in the future will perform elementwise comparison\n",
      "  res_values = method(rvalues)\n"
     ],
     "output_type": "stream"
    },
    {
     "data": {
      "text/plain": "<Figure size 432x288 with 1 Axes>",
      "image/png": "[encoded data removed]"
     },
     "metadata": {},
     "output_type": "display_data"
    }
   ],
   "source": [
    "sns.countplot(y='f9', data=train)\n",
    "print(train.f9.value_counts())\n",
    "train = train[train.f9 != '3']"
   ],
   "metadata": {
    "collapsed": false,
    "pycharm": {
     "name": "#%%\n",
     "is_executing": false
    }
   }
  },
  {
   "cell_type": "code",
   "execution_count": 222,
   "outputs": [
    {
     "data": {
      "text/plain": "<matplotlib.axes._subplots.AxesSubplot at 0x146bb9690>"
     },
     "metadata": {},
     "output_type": "execute_result",
     "execution_count": 222
    },
    {
     "data": {
      "text/plain": "<Figure size 432x288 with 1 Axes>",
      "image/png": "[encoded data removed]"
     },
     "metadata": {},
     "output_type": "display_data"
    }
   ],
   "source": [
    "sns.countplot(y='f9', data=train)"
   ],
   "metadata": {
    "collapsed": false,
    "pycharm": {
     "name": "#%%\n",
     "is_executing": false
    }
   }
  },
  {
   "cell_type": "code",
   "execution_count": null,
   "outputs": [],
   "source": [
    "sns.boxplot(x='y', y='f5', data=train)"
   ],
   "metadata": {
    "collapsed": false,
    "pycharm": {
     "name": "#%%\n",
     "is_executing": false
    }
   }
  },
  {
   "cell_type": "code",
   "execution_count": null,
   "outputs": [],
   "source": [
    "sns.boxplot(x='y', y='f5', data=train)"
   ],
   "metadata": {
    "collapsed": false,
    "pycharm": {
     "name": "#%%\n",
     "is_executing": false
    }
   }
  },
  {
   "cell_type": "code",
   "execution_count": null,
   "outputs": [],
   "source": [
    "sns.boxplot(x='y', y='f10', data=train)"
   ],
   "metadata": {
    "collapsed": false,
    "pycharm": {
     "name": "#%%\n",
     "is_executing": false
    }
   }
  },
  {
   "cell_type": "code",
   "execution_count": null,
   "outputs": [],
   "source": [
    "sns.boxplot(x='y', y='f11', data=train)"
   ],
   "metadata": {
    "collapsed": false,
    "pycharm": {
     "name": "#%%\n",
     "is_executing": false
    }
   }
  },
  {
   "cell_type": "code",
   "execution_count": null,
   "outputs": [],
   "source": [
    "sns.boxplot(x='y', y='f13', data=train)"
   ],
   "metadata": {
    "collapsed": false,
    "pycharm": {
     "name": "#%%\n",
     "is_executing": false
    }
   }
  },
  {
   "cell_type": "code",
   "execution_count": null,
   "outputs": [],
   "source": [
    "sns.boxplot(x='y', y='f14', data=train)"
   ],
   "metadata": {
    "collapsed": false,
    "pycharm": {
     "name": "#%%\n",
     "is_executing": false
    }
   }
  },
  {
   "cell_type": "code",
   "execution_count": null,
   "outputs": [],
   "source": [
    "sns.boxplot(x='y', y='f15', data=train)"
   ],
   "metadata": {
    "collapsed": false,
    "pycharm": {
     "name": "#%%\n",
     "is_executing": false
    }
   }
  },
  {
   "cell_type": "code",
   "execution_count": null,
   "outputs": [],
   "source": [
    "sns.boxplot(x='y', y='f16', data=train)"
   ],
   "metadata": {
    "collapsed": false,
    "pycharm": {
     "name": "#%%\n",
     "is_executing": false
    }
   }
  },
  {
   "cell_type": "code",
   "execution_count": null,
   "outputs": [],
   "source": [
    "sns.boxplot(x='y', y='f18', data=train)"
   ],
   "metadata": {
    "collapsed": false,
    "pycharm": {
     "name": "#%%\n",
     "is_executing": false
    }
   }
  },
  {
   "cell_type": "code",
   "execution_count": null,
   "outputs": [],
   "source": [
    "sns.boxplot(x='y', y='f19', data=train)"
   ],
   "metadata": {
    "collapsed": false,
    "pycharm": {
     "name": "#%%\n",
     "is_executing": false
    }
   }
  },
  {
   "cell_type": "code",
   "execution_count": null,
   "outputs": [],
   "source": [
    "train = encoder(train) \n",
    "from scipy import stats\n",
    "train = train[(np.abs(stats.zscore(train)) < 3).all(axis=1)]"
   ],
   "metadata": {
    "collapsed": false,
    "pycharm": {
     "name": "#%%\n",
     "is_executing": false
    }
   }
  },
  {
   "cell_type": "code",
   "execution_count": null,
   "outputs": [],
   "source": [
    "train.describe()\n"
   ],
   "metadata": {
    "collapsed": false,
    "pycharm": {
     "name": "#%%\n",
     "is_executing": false
    }
   }
  },
  {
   "cell_type": "code",
   "execution_count": null,
   "outputs": [],
   "source": [
    "sns.countplot(hue = 'y', x = 'f1', data = train)\n",
    "print(\"No Problem!\")"
   ],
   "metadata": {
    "collapsed": false,
    "pycharm": {
     "name": "#%%\n",
     "is_executing": false
    }
   }
  },
  {
   "cell_type": "code",
   "execution_count": null,
   "outputs": [],
   "source": [
    "sns.countplot(hue = 'y', x = 'f2', data = train)\n",
    "print(\"No Problem!\")"
   ],
   "metadata": {
    "collapsed": false,
    "pycharm": {
     "name": "#%%\n",
     "is_executing": false
    }
   }
  },
  {
   "cell_type": "code",
   "execution_count": 187,
   "outputs": [
    {
     "name": "stdout",
     "text": [
      "Drop it!\n"
     ],
     "output_type": "stream"
    },
    {
     "data": {
      "text/plain": "<Figure size 432x288 with 1 Axes>",
      "image/png": "[encoded data removed]"
     },
     "metadata": {},
     "output_type": "display_data"
    }
   ],
   "source": [
    "drop = []\n",
    "sns.countplot(hue = 'y', x = 'f3', data = train)\n",
    "print(\"Drop it!\")\n",
    "drop = [ 'f4', 'f6', 'f7', 'f9', 'f11', 'f13', 'f14', 'f15','f17', 'f19']\n",
    "save = train\n",
    "save = save.drop(drop, axis=1)"
   ],
   "metadata": {
    "collapsed": false,
    "pycharm": {
     "name": "#%%\n",
     "is_executing": false
    }
   }
  },
  {
   "cell_type": "code",
   "execution_count": 215,
   "outputs": [
    {
     "data": {
      "text/plain": "<matplotlib.axes._subplots.AxesSubplot at 0x14984e790>"
     },
     "metadata": {},
     "output_type": "execute_result",
     "execution_count": 215
    },
    {
     "data": {
      "text/plain": "<Figure size 432x288 with 1 Axes>",
      "image/png": "[encoded data removed]"
     },
     "metadata": {},
     "output_type": "display_data"
    }
   ],
   "source": [
    "sns.countplot(hue = 'y', x = 'f3', data = train)"
   ],
   "metadata": {
    "collapsed": false,
    "pycharm": {
     "name": "#%%\n",
     "is_executing": false
    }
   }
  },
  {
   "cell_type": "code",
   "execution_count": 188,
   "outputs": [
    {
     "name": "stdout",
     "text": [
      "<class 'pandas.core.frame.DataFrame'>\n",
      "Int64Index: 23338 entries, 0 to 26359\n",
      "Data columns (total 9 columns):\n",
      " #   Column  Non-Null Count  Dtype  \n",
      "---  ------  --------------  -----  \n",
      " 0   f2      23338 non-null  int64  \n",
      " 1   f5      23338 non-null  int64  \n",
      " 2   f8      23338 non-null  int64  \n",
      " 3   f10     23338 non-null  float64\n",
      " 4   f12     23338 non-null  int64  \n",
      " 5   f16     23338 non-null  float64\n",
      " 6   f18     23338 non-null  int64  \n",
      " 7   f20     23338 non-null  int64  \n",
      " 8   y       23338 non-null  int64  \n",
      "dtypes: float64(2), int64(7)\n",
      "memory usage: 2.4 MB\n"
     ],
     "output_type": "stream"
    }
   ],
   "source": [
    "save.info()"
   ],
   "metadata": {
    "collapsed": false,
    "pycharm": {
     "name": "#%%\n",
     "is_executing": false
    }
   }
  },
  {
   "cell_type": "code",
   "execution_count": 171,
   "outputs": [],
   "source": [
    "from sklearn.linear_model import LogisticRegression\n",
    "from sklearn.discriminant_analysis import LinearDiscriminantAnalysis\n",
    "from sklearn.tree import DecisionTreeClassifier\n",
    "from sklearn.naive_bayes import GaussianNB\n",
    "from sklearn.neighbors import KNeighborsClassifier\n",
    "from sklearn.svm import SVC\n",
    "from sklearn.ensemble import RandomForestClassifier\n",
    "from sklearn.ensemble import AdaBoostClassifier\n",
    "from sklearn import model_selection\n",
    "\n",
    "models = []\n",
    "models.append(('LR', LogisticRegression()))\n",
    "models.append(('LDA', LinearDiscriminantAnalysis()))\n",
    "models.append(('KNN', KNeighborsClassifier()))\n",
    "models.append(('Decison-Tree', DecisionTreeClassifier()))\n",
    "models.append(('Gaussian', GaussianNB()))\n",
    "models.append(('SVM', SVC()))\n",
    "models.append(('RandForest',RandomForestClassifier(max_depth = 8, n_estimators = 120)))\n",
    "models.append(('ADA', AdaBoostClassifier(n_estimators = 120)))\n",
    "\n"
   ],
   "metadata": {
    "collapsed": false,
    "pycharm": {
     "name": "#%%\n",
     "is_executing": false
    }
   }
  },
  {
   "cell_type": "code",
   "execution_count": 179,
   "outputs": [
    {
     "data": {
      "text/plain": "(23338, 10)"
     },
     "metadata": {},
     "output_type": "execute_result",
     "execution_count": 179
    }
   ],
   "source": [
    "save.shape"
   ],
   "metadata": {
    "collapsed": false,
    "pycharm": {
     "name": "#%%\n",
     "is_executing": false
    }
   }
  },
  {
   "cell_type": "code",
   "execution_count": 189,
   "outputs": [],
   "source": [
    "X = save.drop('y', axis=1).values\n",
    "y = save['y'].values\n",
    "scaler = StandardScaler()\n",
    "scaler.fit(X)\n",
    "X_train = scaler.fit_transform(X)\n",
    "pca = PCA(n_components=8)\n",
    "pca.fit(X_train)\n",
    "X_train = pca.fit_transform(X_train)"
   ],
   "metadata": {
    "collapsed": false,
    "pycharm": {
     "name": "#%%\n",
     "is_executing": false
    }
   }
  },
  {
   "cell_type": "code",
   "execution_count": 194,
   "outputs": [
    {
     "name": "stdout",
     "text": [
      "0/8\tLR: 0.9243296017319944\n",
      "1/8\tLDA: 0.9203018577961011\n",
      "2/8\tKNN: 0.9221868279187755\n",
      "3/8\tDecison-Tree: 0.9033762194533099\n",
      "4/8\tGaussian: 0.9216301892923782\n",
      "5/8\tSVM: 0.9265576541570614\n",
      "6/8\tRandForest: 0.925700579876938\n",
      "7/8\tADA: 0.9247579479607502\n"
     ],
     "output_type": "stream"
    }
   ],
   "source": [
    "cnt = 0\n",
    "results = []\n",
    "names = []\n",
    "for name, model in models:\n",
    "    kfold = model_selection.KFold(n_splits=8)\n",
    "    cv_results = model_selection.cross_val_score(model, X_train, y, cv=kfold, scoring='accuracy')\n",
    "    results.append(cv_results)\n",
    "    names.append(name)\n",
    "    msg = \"{}/{}\\t{}: {}\".format(cnt, len(models), name, cv_results.mean())\n",
    "    cnt+=1;\n",
    "    print(msg)"
   ],
   "metadata": {
    "collapsed": false,
    "pycharm": {
     "name": "#%%\n",
     "is_executing": false
    }
   }
  },
  {
   "cell_type": "code",
   "execution_count": 204,
   "outputs": [],
   "source": [
    "def encoder(df, catags):\n",
    "    temp = df.copy()\n",
    "    enc = preprocessing.LabelEncoder()\n",
    "    \n",
    "    for col in catags:\n",
    "        temp[col] = enc.fit_transform(temp[col])\n",
    "    return temp;"
   ],
   "metadata": {
    "collapsed": false,
    "pycharm": {
     "name": "#%%\n",
     "is_executing": false
    }
   }
  },
  {
   "cell_type": "code",
   "execution_count": 214,
   "outputs": [
    {
     "name": "stdout",
     "text": [
      "Accuracy :  0.8412746585735964\n",
      "Confusion Matrix : \n",
      " [[5508  332]\n",
      " [ 714   36]]\n",
      "Classification Report: \n",
      "               precision    recall  f1-score   support\n",
      "\n",
      "           0       0.89      0.94      0.91      5840\n",
      "           1       0.10      0.05      0.06       750\n",
      "\n",
      "    accuracy                           0.84      6590\n",
      "   macro avg       0.49      0.50      0.49      6590\n",
      "weighted avg       0.80      0.84      0.82      6590\n",
      "\n",
      "Accuracy :  0.8575113808801214\n",
      "Confusion Matrix : \n",
      " [[5472  368]\n",
      " [ 571  179]]\n",
      "Classification Report: \n",
      "               precision    recall  f1-score   support\n",
      "\n",
      "           0       0.91      0.94      0.92      5840\n",
      "           1       0.33      0.24      0.28       750\n",
      "\n",
      "    accuracy                           0.86      6590\n",
      "   macro avg       0.62      0.59      0.60      6590\n",
      "weighted avg       0.84      0.86      0.85      6590\n",
      "\n"
     ],
     "output_type": "stream"
    }
   ],
   "source": [
    "val_x = pd.read_csv('data/classificaition_val_x.csv')\n",
    "val_y = pd.read_csv('data/classificaition_val_y.csv')\n",
    "val_x = encoder(pd.DataFrame(val_x), ['f1', 'f2', 'f3', 'f4', 'f7', 'f8', 'f9', 'f12', 'f17', 'f20'])\n",
    "scaler.fit(val_x)\n",
    "val_x = scaler.fit_transform(val_x)\n",
    "pca.fit(val_x)\n",
    "val_x = pca.fit_transform(val_x)\n",
    "svc = SVC()\n",
    "svc.fit(X_train, y)\n",
    "predictions = svc.predict(val_x)\n",
    "print(\"Accuracy : \", accuracy_score(val_y, predictions))\n",
    "print(\"Confusion Matrix : \\n\",confusion_matrix(val_y, predictions))\n",
    "print(\"Classification Report: \\n\",classification_report(val_y, predictions))\n",
    "\n",
    "lr = LogisticRegression()\n",
    "lr.fit(X_train, y)\n",
    "predictions = lr.predict(val_x)\n",
    "print(\"Accuracy : \", accuracy_score(val_y, predictions))\n",
    "print(\"Confusion Matrix : \\n\",confusion_matrix(val_y, predictions))\n",
    "print(\"Classification Report: \\n\",classification_report(val_y, predictions))"
   ],
   "metadata": {
    "collapsed": false,
    "pycharm": {
     "name": "#%%\n",
     "is_executing": false
    }
   }
  },
  {
   "cell_type": "code",
   "execution_count": 212,
   "outputs": [
    {
     "data": {
      "text/plain": "      f1  f2  f3  f4  f5  f6  f7  f8  f9    f10     f11 f12      f13    f14  \\\n0     c0  c1  c0  c6  34   2  c1  c2  c1  899.1  5191.0  c0  65.7958 -29.12   \n1     c7  c0  c0  c3  37   2  c1  c0  c1  899.1  5099.1  c1  65.1525 -37.68   \n2     c0  c0  c0  c3  42   1  c0  c3  c0  899.1  5099.1  c1  65.0251 -36.96   \n3     c1  c1  c2  c2  40   1  c2  c2  c0  899.1  5228.1  c2  66.1255 -33.44   \n4     c1  c0  c0  c0  33   1  c0  c4  c2  899.1  5195.8  c1  65.2400 -33.60   \n...   ..  ..  ..  ..  ..  ..  ..  ..  ..    ...     ...  ..      ...    ...   \n6585  c4  c1  c2  c2  33   1  c0  c4  c1  899.1  5191.0  c0  65.7958 -29.12   \n6586  c7  c1  c0  c2  50   1  c1  c1  c1  899.1  5191.0  c1  65.7958 -29.12   \n6587  c9  c1  c0  c5  35   6  c0  c1  c1  899.1  5228.1  c1  66.1255 -33.44   \n6588  c1  c0  c0  c2  27   1  c0  c2  c1  899.1  5228.1  c0  65.7426 -34.16   \n6589  c0  c0  c0  c3  43   2  c0  c3  c2  899.1  5099.1  c0  65.0251 -36.96   \n\n      f15     f16 f17  f18  f19  f20  \n0     1.1  2.9142  c1  157    0   c4  \n1    -1.8  0.8430  c1  345    0   c3  \n2    -1.8  0.7962  c0  304    1   c4  \n3     1.4  2.9772  c1  104    0   c5  \n4    -0.1  2.4126  c1  451    0  c10  \n...   ...     ...  ..  ...  ...  ...  \n6585  1.1  2.9184  c1  127    0   c4  \n6586  1.1  2.9142  c1  369    0   c4  \n6587  1.4  2.9184  c1  589    0   c5  \n6588  1.4  2.9742  c1  128    0   c6  \n6589 -1.8  0.7962  c1  209    0   c4  \n\n[6590 rows x 20 columns]",
      "text/html": "<div>\n<style scoped>\n    .dataframe tbody tr th:only-of-type {\n        vertical-align: middle;\n    }\n\n    .dataframe tbody tr th {\n        vertical-align: top;\n    }\n\n    .dataframe thead th {\n        text-align: right;\n    }\n</style>\n<table border=\"1\" class=\"dataframe\">\n  <thead>\n    <tr style=\"text-align: right;\">\n      <th></th>\n      <th>f1</th>\n      <th>f2</th>\n      <th>f3</th>\n      <th>f4</th>\n      <th>f5</th>\n      <th>f6</th>\n      <th>f7</th>\n      <th>f8</th>\n      <th>f9</th>\n      <th>f10</th>\n      <th>f11</th>\n      <th>f12</th>\n      <th>f13</th>\n      <th>f14</th>\n      <th>f15</th>\n      <th>f16</th>\n      <th>f17</th>\n      <th>f18</th>\n      <th>f19</th>\n      <th>f20</th>\n    </tr>\n  </thead>\n  <tbody>\n    <tr>\n      <th>0</th>\n      <td>c0</td>\n      <td>c1</td>\n      <td>c0</td>\n      <td>c6</td>\n      <td>34</td>\n      <td>2</td>\n      <td>c1</td>\n      <td>c2</td>\n      <td>c1</td>\n      <td>899.1</td>\n      <td>5191.0</td>\n      <td>c0</td>\n      <td>65.7958</td>\n      <td>-29.12</td>\n      <td>1.1</td>\n      <td>2.9142</td>\n      <td>c1</td>\n      <td>157</td>\n      <td>0</td>\n      <td>c4</td>\n    </tr>\n    <tr>\n      <th>1</th>\n      <td>c7</td>\n      <td>c0</td>\n      <td>c0</td>\n      <td>c3</td>\n      <td>37</td>\n      <td>2</td>\n      <td>c1</td>\n      <td>c0</td>\n      <td>c1</td>\n      <td>899.1</td>\n      <td>5099.1</td>\n      <td>c1</td>\n      <td>65.1525</td>\n      <td>-37.68</td>\n      <td>-1.8</td>\n      <td>0.8430</td>\n      <td>c1</td>\n      <td>345</td>\n      <td>0</td>\n      <td>c3</td>\n    </tr>\n    <tr>\n      <th>2</th>\n      <td>c0</td>\n      <td>c0</td>\n      <td>c0</td>\n      <td>c3</td>\n      <td>42</td>\n      <td>1</td>\n      <td>c0</td>\n      <td>c3</td>\n      <td>c0</td>\n      <td>899.1</td>\n      <td>5099.1</td>\n      <td>c1</td>\n      <td>65.0251</td>\n      <td>-36.96</td>\n      <td>-1.8</td>\n      <td>0.7962</td>\n      <td>c0</td>\n      <td>304</td>\n      <td>1</td>\n      <td>c4</td>\n    </tr>\n    <tr>\n      <th>3</th>\n      <td>c1</td>\n      <td>c1</td>\n      <td>c2</td>\n      <td>c2</td>\n      <td>40</td>\n      <td>1</td>\n      <td>c2</td>\n      <td>c2</td>\n      <td>c0</td>\n      <td>899.1</td>\n      <td>5228.1</td>\n      <td>c2</td>\n      <td>66.1255</td>\n      <td>-33.44</td>\n      <td>1.4</td>\n      <td>2.9772</td>\n      <td>c1</td>\n      <td>104</td>\n      <td>0</td>\n      <td>c5</td>\n    </tr>\n    <tr>\n      <th>4</th>\n      <td>c1</td>\n      <td>c0</td>\n      <td>c0</td>\n      <td>c0</td>\n      <td>33</td>\n      <td>1</td>\n      <td>c0</td>\n      <td>c4</td>\n      <td>c2</td>\n      <td>899.1</td>\n      <td>5195.8</td>\n      <td>c1</td>\n      <td>65.2400</td>\n      <td>-33.60</td>\n      <td>-0.1</td>\n      <td>2.4126</td>\n      <td>c1</td>\n      <td>451</td>\n      <td>0</td>\n      <td>c10</td>\n    </tr>\n    <tr>\n      <th>...</th>\n      <td>...</td>\n      <td>...</td>\n      <td>...</td>\n      <td>...</td>\n      <td>...</td>\n      <td>...</td>\n      <td>...</td>\n      <td>...</td>\n      <td>...</td>\n      <td>...</td>\n      <td>...</td>\n      <td>...</td>\n      <td>...</td>\n      <td>...</td>\n      <td>...</td>\n      <td>...</td>\n      <td>...</td>\n      <td>...</td>\n      <td>...</td>\n      <td>...</td>\n    </tr>\n    <tr>\n      <th>6585</th>\n      <td>c4</td>\n      <td>c1</td>\n      <td>c2</td>\n      <td>c2</td>\n      <td>33</td>\n      <td>1</td>\n      <td>c0</td>\n      <td>c4</td>\n      <td>c1</td>\n      <td>899.1</td>\n      <td>5191.0</td>\n      <td>c0</td>\n      <td>65.7958</td>\n      <td>-29.12</td>\n      <td>1.1</td>\n      <td>2.9184</td>\n      <td>c1</td>\n      <td>127</td>\n      <td>0</td>\n      <td>c4</td>\n    </tr>\n    <tr>\n      <th>6586</th>\n      <td>c7</td>\n      <td>c1</td>\n      <td>c0</td>\n      <td>c2</td>\n      <td>50</td>\n      <td>1</td>\n      <td>c1</td>\n      <td>c1</td>\n      <td>c1</td>\n      <td>899.1</td>\n      <td>5191.0</td>\n      <td>c1</td>\n      <td>65.7958</td>\n      <td>-29.12</td>\n      <td>1.1</td>\n      <td>2.9142</td>\n      <td>c1</td>\n      <td>369</td>\n      <td>0</td>\n      <td>c4</td>\n    </tr>\n    <tr>\n      <th>6587</th>\n      <td>c9</td>\n      <td>c1</td>\n      <td>c0</td>\n      <td>c5</td>\n      <td>35</td>\n      <td>6</td>\n      <td>c0</td>\n      <td>c1</td>\n      <td>c1</td>\n      <td>899.1</td>\n      <td>5228.1</td>\n      <td>c1</td>\n      <td>66.1255</td>\n      <td>-33.44</td>\n      <td>1.4</td>\n      <td>2.9184</td>\n      <td>c1</td>\n      <td>589</td>\n      <td>0</td>\n      <td>c5</td>\n    </tr>\n    <tr>\n      <th>6588</th>\n      <td>c1</td>\n      <td>c0</td>\n      <td>c0</td>\n      <td>c2</td>\n      <td>27</td>\n      <td>1</td>\n      <td>c0</td>\n      <td>c2</td>\n      <td>c1</td>\n      <td>899.1</td>\n      <td>5228.1</td>\n      <td>c0</td>\n      <td>65.7426</td>\n      <td>-34.16</td>\n      <td>1.4</td>\n      <td>2.9742</td>\n      <td>c1</td>\n      <td>128</td>\n      <td>0</td>\n      <td>c6</td>\n    </tr>\n    <tr>\n      <th>6589</th>\n      <td>c0</td>\n      <td>c0</td>\n      <td>c0</td>\n      <td>c3</td>\n      <td>43</td>\n      <td>2</td>\n      <td>c0</td>\n      <td>c3</td>\n      <td>c2</td>\n      <td>899.1</td>\n      <td>5099.1</td>\n      <td>c0</td>\n      <td>65.0251</td>\n      <td>-36.96</td>\n      <td>-1.8</td>\n      <td>0.7962</td>\n      <td>c1</td>\n      <td>209</td>\n      <td>0</td>\n      <td>c4</td>\n    </tr>\n  </tbody>\n</table>\n<p>6590 rows × 20 columns</p>\n</div>"
     },
     "metadata": {},
     "output_type": "execute_result",
     "execution_count": 212
    }
   ],
   "source": [],
   "metadata": {
    "collapsed": false,
    "pycharm": {
     "name": "#%%\n",
     "is_executing": false
    }
   }
  }
 ],
 "metadata": {
  "kernelspec": {
   "display_name": "Python 3",
   "language": "python",
   "name": "python3"
  },
  "language_info": {
   "codemirror_mode": {
    "name": "ipython",
    "version": 2
   },
   "file_extension": ".py",
   "mimetype": "text/x-python",
   "name": "python",
   "nbconvert_exporter": "python",
   "pygments_lexer": "ipython2",
   "version": "2.7.6"
  },
  "pycharm": {
   "stem_cell": {
    "cell_type": "raw",
    "source": [],
    "metadata": {
     "collapsed": false
    }
   }
  }
 },
 "nbformat": 4,
 "nbformat_minor": 0
}